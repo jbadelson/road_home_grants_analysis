{
 "cells": [
  {
   "cell_type": "code",
   "execution_count": 1,
   "metadata": {},
   "outputs": [],
   "source": [
    "import pandas as pd\n",
    "import geopandas as gpd\n",
    "import matplotlib.pyplot as plt\n",
    "import seaborn as sns\n",
    "plt.style.use('style/advocate.mplstyle')\n",
    "%matplotlib inline\n",
    "pd.set_option('display.float_format', lambda x: f'{x:,.2f}')\n",
    "pd.set_option('display.max_rows', 100)\n",
    "pd.set_option('display.max_columns', 100)"
   ]
  },
  {
   "cell_type": "markdown",
   "metadata": {},
   "source": [
    "# Block group income analysis -- all LA\n",
    "\n",
    "Compare uncovered damage vs. income level/poverty level (we would use 2000 Census data – “what did it look like before you got the grant”, a pre-flood view) GeoIDs for the blocks are all 2000.\n",
    "Assigned: Sophie\n",
    "Needs:\n",
    "This nonprofit has already matched tracts to neighborhoods (https://www.datacenterresearch.org/); Jeff will pop data into the drive\n",
    "What ACS time period should we use?\n",
    "Timing: Days (let’s check in on our Monday meeting 9/19)\n",
    "Status: In progress\n"
   ]
  },
  {
   "cell_type": "markdown",
   "metadata": {},
   "source": [
    "### Load Flooding data\n",
    "- rh_block_groups_nola_flood_GT3\n",
    "- These files have racial/ethnic demographic information and the Road Home data. Note that as with the neighborhoods file, the demographic information is the aggregate of all the blocks in the block group but the RH data only aggregates blocks that had more than 3 feet of flooding."
   ]
  },
  {
   "cell_type": "code",
   "execution_count": 2,
   "metadata": {},
   "outputs": [],
   "source": [
    "# df_flood = pd.read_csv('processed data/rh_block_groups_nola_flood_GT3.csv', index_col=0)"
   ]
  },
  {
   "cell_type": "code",
   "execution_count": 3,
   "metadata": {},
   "outputs": [],
   "source": [
    "# len(df_flood)"
   ]
  },
  {
   "cell_type": "code",
   "execution_count": 4,
   "metadata": {},
   "outputs": [],
   "source": [
    "# df_flood.columns"
   ]
  },
  {
   "cell_type": "code",
   "execution_count": null,
   "metadata": {},
   "outputs": [],
   "source": [
    "## Check uncovered percent"
   ]
  },
  {
   "cell_type": "code",
   "execution_count": 5,
   "metadata": {},
   "outputs": [],
   "source": [
    "# df_flood.uncovered_percent.mean()"
   ]
  },
  {
   "cell_type": "code",
   "execution_count": 6,
   "metadata": {},
   "outputs": [],
   "source": [
    "# df_flood.uncovered_percent.describe()"
   ]
  },
  {
   "cell_type": "code",
   "execution_count": 7,
   "metadata": {},
   "outputs": [],
   "source": [
    "# df_flood.uncovered_percent.min()"
   ]
  },
  {
   "cell_type": "code",
   "execution_count": 8,
   "metadata": {},
   "outputs": [],
   "source": [
    "# len(df_flood[df_flood.uncovered_percent.isna()])"
   ]
  },
  {
   "cell_type": "code",
   "execution_count": 9,
   "metadata": {},
   "outputs": [],
   "source": [
    "# len(df_flood[df_flood.uncovered_percent.notnull()])"
   ]
  },
  {
   "cell_type": "markdown",
   "metadata": {},
   "source": [
    "### Load Census block group data from IPUMS\n",
    "Compare uncovered damage vs. income level/poverty level (we would use 2000 Census data – “what did it look like before you got the grant”, a pre-flood view) GeoIDs for the blocks are all 2000.\n",
    "\n"
   ]
  },
  {
   "cell_type": "code",
   "execution_count": 15,
   "metadata": {},
   "outputs": [],
   "source": [
    "df_LA = pd.read_csv('raw data/nhgis0015_csv/nhgis0015_ds152_2000_blck_grp.csv')"
   ]
  },
  {
   "cell_type": "code",
   "execution_count": 16,
   "metadata": {},
   "outputs": [
    {
     "data": {
      "text/plain": [
       "3509"
      ]
     },
     "execution_count": 16,
     "metadata": {},
     "output_type": "execute_result"
    }
   ],
   "source": [
    "len(df_LA) # should be 3509 for ALL LA"
   ]
  },
  {
   "cell_type": "markdown",
   "metadata": {},
   "source": [
    "### Convert GISJOIN to GEOID\n",
    "- Remove G\n",
    "- Remove zero in third/4th digit  \n",
    "- Remove 6th/8th digit (0)   \n",
    "- 12 digits is block group code"
   ]
  },
  {
   "cell_type": "code",
   "execution_count": 12,
   "metadata": {},
   "outputs": [
    {
     "data": {
      "text/plain": [
       "15"
      ]
     },
     "execution_count": 12,
     "metadata": {},
     "output_type": "execute_result"
    }
   ],
   "source": [
    "len('G22007100001001')"
   ]
  },
  {
   "cell_type": "code",
   "execution_count": 13,
   "metadata": {},
   "outputs": [
    {
     "data": {
      "text/plain": [
       "12"
      ]
     },
     "execution_count": 13,
     "metadata": {},
     "output_type": "execute_result"
    }
   ],
   "source": [
    "len(\"220710033042\")"
   ]
  },
  {
   "cell_type": "code",
   "execution_count": 17,
   "metadata": {},
   "outputs": [
    {
     "data": {
      "text/plain": [
       "0       G22000109601001\n",
       "1       G22000109601002\n",
       "2       G22000109601003\n",
       "3       G22000109601004\n",
       "4       G22000109601005\n",
       "             ...       \n",
       "3504    G22012709603003\n",
       "3505    G22012709603004\n",
       "3506    G22012709604001\n",
       "3507    G22012709604002\n",
       "3508    G22012709604003\n",
       "Name: GISJOIN, Length: 3509, dtype: object"
      ]
     },
     "execution_count": 17,
     "metadata": {},
     "output_type": "execute_result"
    }
   ],
   "source": [
    "df_LA.GISJOIN "
   ]
  },
  {
   "cell_type": "code",
   "execution_count": 18,
   "metadata": {},
   "outputs": [],
   "source": [
    "df_LA[\"GEOID\"] = df_LA.GISJOIN.str[1:3] + df_LA.GISJOIN.str[4:7] + df_LA.GISJOIN.str[8:] "
   ]
  },
  {
   "cell_type": "markdown",
   "metadata": {},
   "source": [
    "### Join two datasets ## SKIP FOR NOW"
   ]
  },
  {
   "cell_type": "code",
   "execution_count": 19,
   "metadata": {},
   "outputs": [],
   "source": [
    "# len(df_orleans.GEOID.unique()) ## Good, 485 unique rows"
   ]
  },
  {
   "cell_type": "code",
   "execution_count": 20,
   "metadata": {},
   "outputs": [],
   "source": [
    "# df_flood.BKGPIDFP00 # NEW GEOID"
   ]
  },
  {
   "cell_type": "code",
   "execution_count": 21,
   "metadata": {},
   "outputs": [],
   "source": [
    "# df_flood['BKGPIDFP00'] = df_flood.BKGPIDFP00.astype(\"str\") # convert to string"
   ]
  },
  {
   "cell_type": "code",
   "execution_count": 22,
   "metadata": {},
   "outputs": [],
   "source": [
    "# df_merged = df_flood.merge(df_orleans, left_on=\"BKGPIDFP00\", right_on=\"GEOID\")"
   ]
  },
  {
   "cell_type": "code",
   "execution_count": 23,
   "metadata": {},
   "outputs": [],
   "source": [
    "# len(df_merged)"
   ]
  },
  {
   "cell_type": "markdown",
   "metadata": {},
   "source": [
    "### Rename subset of columns -- and save LA data no flooding to csv."
   ]
  },
  {
   "cell_type": "code",
   "execution_count": null,
   "metadata": {},
   "outputs": [],
   "source": [
    "df_merged.rename(columns=\n",
    "{\"HAK001\": \"total_pop\",\n",
    "\"HA2001\":\"total_households\",\n",
    "\"HAQ001\": \"not_hispanic\",\n",
    "\"HAQ002\": \"hispanic\",\n",
    "\"HAR001\":\"not_hispanic_white\",\n",
    "\"HAR002\":\"not_hispanic_black\",\n",
    "\"HAR003\":\"not_hispanic_native\",\n",
    "\"HAR004\":\"not_hispanic_asian\",\n",
    "\"HAR005\":\"not_hispanic_pacific_islander\",\n",
    "\"HAR006\":\"not_hispanic_other\",\n",
    "\"HAR007\":\"not_hispanic_two_or_more\",\n",
    "\"HAR008\":\"hispanic_white\",\n",
    "\"HAR009\":\"hispanic_black\",\n",
    "\"HAR010\":\"hispanic_native\",\n",
    "\"HAR011\":\"hispanic_asian\",\n",
    "\"HAR012\":\"hispanic_pacific_islander\",\n",
    "\"HAR013\":\"hispanic_other\",\n",
    "\"HAR014\":\"hispanic_two_or_more\",\n",
    "\"HF5001\":\"hh_lt_10000\",\n",
    "\"HF5002\":\"hh_10000_1499\",\n",
    "\"HF5003\":\"hh_15000_19999\",\n",
    "\"HF5004\":\"hh_20000_24,999\",\n",
    "\"HF5005\":\"hh_25000_29999\",\n",
    "\"HF5006\":\"hh_30000_34999\",\n",
    "\"HF5007\":\"hh_35000_39999\",\n",
    "\"HF5008\":\"hh_40000_44999\",\n",
    "\"HF5009\":\"hh_45000_49999\",\n",
    "\"HF5010\":\"hh_50000_59999\",\n",
    "\"HF5011\":\"hh_60000_74999\",\n",
    "\"HF5012\":\"hh_75000_99999\",\n",
    "\"HF5013\":\"hh_100000_124999\",\n",
    "\"HF5014\":\"hh_125000_149999\",\n",
    "\"HF5015\":\"hh_150000_199999\",\n",
    "\"HF5016\":\"hh_gte_200000\",\n",
    "\"HF6001\":\"hh_median_income\",\n",
    "\"HHE001\":\"persons_below_poverty_level\",\n",
    "\"HHE002\":\"persons_at_or_below_poverty_level\",\n",
    "\"HHS001\":\"hh_below_poverty_level\",\n",
    "\"HHS002\":\"hh_at_or_below_poverty_level\"}, inplace=True)"
   ]
  },
  {
   "cell_type": "code",
   "execution_count": 25,
   "metadata": {},
   "outputs": [
    {
     "data": {
      "text/plain": [
       "3509"
      ]
     },
     "execution_count": 25,
     "metadata": {},
     "output_type": "execute_result"
    }
   ],
   "source": [
    "len(df_LA)"
   ]
  },
  {
   "cell_type": "code",
   "execution_count": 26,
   "metadata": {},
   "outputs": [],
   "source": [
    "df_LA.to_csv('processed data/rh_block_groups_all_LA_income_poverty_race_table_3.csv')"
   ]
  },
  {
   "cell_type": "markdown",
   "metadata": {},
   "source": [
    "### STOPPED EDITS HERE"
   ]
  },
  {
   "cell_type": "markdown",
   "metadata": {},
   "source": [
    "### Compare with Jeff's dataset (non-sampled Census)"
   ]
  },
  {
   "cell_type": "code",
   "execution_count": null,
   "metadata": {},
   "outputs": [],
   "source": [
    "df_merged[['Black','not_hispanic_black',\"Total\",\"total_pop\" ]].head(20)"
   ]
  },
  {
   "cell_type": "markdown",
   "metadata": {},
   "source": [
    "## Data check: Jeff's census data, SF3 table, SF1B table from IPUMS"
   ]
  },
  {
   "cell_type": "code",
   "execution_count": null,
   "metadata": {},
   "outputs": [],
   "source": [
    "df_sf1b = pd.read_csv('raw data/nhgis0013_csv/nhgis0013_ds147_2000_blck_grp.csv')"
   ]
  },
  {
   "cell_type": "code",
   "execution_count": null,
   "metadata": {},
   "outputs": [],
   "source": [
    "df_sf1b[\"GEOID\"] = df_sf1b.GISJOIN.str[1:3] + df_sf1b.GISJOIN.str[4:7] + df_orleans.GISJOIN.str[8:] "
   ]
  },
  {
   "cell_type": "code",
   "execution_count": null,
   "metadata": {},
   "outputs": [],
   "source": [
    "#super joined table for checking\n",
    "df_superset = df_merged.merge(df_sf1b, left_on=\"GEOID\", right_on=\"GEOID\")"
   ]
  },
  {
   "cell_type": "code",
   "execution_count": null,
   "metadata": {},
   "outputs": [],
   "source": [
    "len(df_superset)"
   ]
  },
  {
   "cell_type": "code",
   "execution_count": null,
   "metadata": {},
   "outputs": [],
   "source": [
    "# Comparison between Jeff's data, table 3, data including hispanic, table 2 non hispanic black, Total from Jeff, total from table 3, total from table 2"
   ]
  },
  {
   "cell_type": "code",
   "execution_count": null,
   "metadata": {},
   "outputs": [],
   "source": [
    "df_superset[['Black','not_hispanic_black',\"FYF002\", \"Total\",\"total_pop\",\"FXS001\" ]].to_csv('processed data/data_comparison_test.csv')"
   ]
  },
  {
   "cell_type": "markdown",
   "metadata": {},
   "source": [
    "## Calculate poverty statistics"
   ]
  },
  {
   "cell_type": "code",
   "execution_count": null,
   "metadata": {},
   "outputs": [],
   "source": [
    "## NOTE: DO NOT USE \"TOTAL_POP_POVERTY_STATUS\" or HHD001. USE INCOME_LT_POVERTY_LVL or HHE001: Income in 1999 below poverty level\n",
    "df_merged['percent_poverty_status'] = df_merged['hh_below_poverty_level']/df_merged['total_households']"
   ]
  },
  {
   "cell_type": "code",
   "execution_count": null,
   "metadata": {},
   "outputs": [],
   "source": [
    "len(df_merged)"
   ]
  },
  {
   "cell_type": "code",
   "execution_count": null,
   "metadata": {
    "scrolled": true
   },
   "outputs": [],
   "source": [
    "df_merged.percent_poverty_status.describe()"
   ]
  },
  {
   "cell_type": "markdown",
   "metadata": {},
   "source": [
    "Overall uncovered percent"
   ]
  },
  {
   "cell_type": "code",
   "execution_count": null,
   "metadata": {},
   "outputs": [],
   "source": [
    "df_merged.uncovered_percent.mean()"
   ]
  },
  {
   "cell_type": "code",
   "execution_count": null,
   "metadata": {},
   "outputs": [],
   "source": [
    "df_merged.uncovered_percent.median()"
   ]
  },
  {
   "cell_type": "code",
   "execution_count": null,
   "metadata": {},
   "outputs": [],
   "source": [
    "df_merged.uncovered_percent.std()"
   ]
  },
  {
   "cell_type": "code",
   "execution_count": null,
   "metadata": {},
   "outputs": [],
   "source": [
    "df_merged.uncovered_percent.hist(bins=50)"
   ]
  },
  {
   "cell_type": "markdown",
   "metadata": {},
   "source": [
    "For those block groups where there was a poverty rate of 25% or LESS, the average uncovered_percent was 0.231."
   ]
  },
  {
   "cell_type": "code",
   "execution_count": null,
   "metadata": {},
   "outputs": [],
   "source": [
    "df_25 = df_merged[df_merged.percent_poverty_status <= .25]"
   ]
  },
  {
   "cell_type": "code",
   "execution_count": null,
   "metadata": {},
   "outputs": [],
   "source": [
    "df_25.uncovered_percent.mean()"
   ]
  },
  {
   "cell_type": "markdown",
   "metadata": {},
   "source": [
    "For those block groups where there was a poverty rate of 50% or more, the average uncovered_percent was 31%."
   ]
  },
  {
   "cell_type": "code",
   "execution_count": null,
   "metadata": {},
   "outputs": [],
   "source": [
    "df_50 = df_merged[df_merged.percent_poverty_status >= .50]"
   ]
  },
  {
   "cell_type": "code",
   "execution_count": null,
   "metadata": {},
   "outputs": [],
   "source": [
    "df_50.uncovered_percent.mean()"
   ]
  },
  {
   "cell_type": "code",
   "execution_count": null,
   "metadata": {},
   "outputs": [],
   "source": [
    "df_50.uncovered_percent.median()"
   ]
  },
  {
   "cell_type": "markdown",
   "metadata": {},
   "source": [
    "For those block groups where there was a poverty rate of 60% or more, the average uncovered_percent was 45%."
   ]
  },
  {
   "cell_type": "code",
   "execution_count": null,
   "metadata": {},
   "outputs": [],
   "source": [
    "df_60 = df_merged[df_merged.percent_poverty_status >= .60]"
   ]
  },
  {
   "cell_type": "code",
   "execution_count": null,
   "metadata": {},
   "outputs": [],
   "source": [
    "df_60.uncovered_percent.mean()"
   ]
  },
  {
   "cell_type": "code",
   "execution_count": null,
   "metadata": {},
   "outputs": [],
   "source": [
    "df_60.uncovered_percent.median()"
   ]
  },
  {
   "cell_type": "markdown",
   "metadata": {},
   "source": [
    "For those block groups where there was a poverty rate of 75% or more, the average uncovered_percent was 45%."
   ]
  },
  {
   "cell_type": "code",
   "execution_count": null,
   "metadata": {},
   "outputs": [],
   "source": [
    "df_75 = df_merged[df_merged.percent_poverty_status >= .75]"
   ]
  },
  {
   "cell_type": "code",
   "execution_count": null,
   "metadata": {},
   "outputs": [],
   "source": [
    "df_75.uncovered_percent.mean()"
   ]
  },
  {
   "cell_type": "code",
   "execution_count": null,
   "metadata": {},
   "outputs": [],
   "source": [
    "df_75.uncovered_percent.median()"
   ]
  },
  {
   "cell_type": "code",
   "execution_count": null,
   "metadata": {},
   "outputs": [],
   "source": [
    "df_75.Neighborhood.value_counts()"
   ]
  },
  {
   "cell_type": "markdown",
   "metadata": {},
   "source": [
    "## Income analysis"
   ]
  },
  {
   "cell_type": "code",
   "execution_count": null,
   "metadata": {},
   "outputs": [],
   "source": [
    "df_merged.hh_median_income.mean()"
   ]
  },
  {
   "cell_type": "code",
   "execution_count": null,
   "metadata": {},
   "outputs": [],
   "source": [
    "df_merged.hh_median_income.median()"
   ]
  },
  {
   "cell_type": "code",
   "execution_count": null,
   "metadata": {},
   "outputs": [],
   "source": [
    "df_merged.hh_median_income.describe()"
   ]
  },
  {
   "cell_type": "code",
   "execution_count": null,
   "metadata": {},
   "outputs": [],
   "source": [
    "# SAME AS DATA CENTER\n",
    "df_merged.hh_lt_10000.sum() / df_merged.total_households.sum()"
   ]
  },
  {
   "cell_type": "code",
   "execution_count": null,
   "metadata": {},
   "outputs": [],
   "source": [
    "df_merged[df_merged['hh_median_income'] <= 10000].uncovered_percent.mean()"
   ]
  },
  {
   "cell_type": "code",
   "execution_count": null,
   "metadata": {},
   "outputs": [],
   "source": [
    "df_merged[(df_merged['hh_median_income'] > 10000)&(df_merged['hh_median_income'] <= 25000)].uncovered_percent.mean()"
   ]
  },
  {
   "cell_type": "code",
   "execution_count": null,
   "metadata": {},
   "outputs": [],
   "source": [
    "df_merged[(df_merged['hh_median_income'] > 25000)&(df_merged['hh_median_income'] <= 50000)].uncovered_percent.mean()"
   ]
  },
  {
   "cell_type": "code",
   "execution_count": null,
   "metadata": {},
   "outputs": [],
   "source": [
    "df_merged[(df_merged['hh_median_income'] > 50000)&(df_merged['hh_median_income'] <= 100000)].uncovered_percent.mean()"
   ]
  },
  {
   "cell_type": "code",
   "execution_count": null,
   "metadata": {},
   "outputs": [],
   "source": [
    "df_merged[(df_merged['hh_median_income'] > 100000)].uncovered_percent.mean()"
   ]
  },
  {
   "cell_type": "markdown",
   "metadata": {},
   "source": [
    "## Save to CSV"
   ]
  },
  {
   "cell_type": "code",
   "execution_count": null,
   "metadata": {},
   "outputs": [],
   "source": [
    "df_merged.to_csv('processed data/rh_block_groups_nola_flood_GT3_w_income_poverty.csv')"
   ]
  },
  {
   "cell_type": "code",
   "execution_count": null,
   "metadata": {},
   "outputs": [],
   "source": []
  }
 ],
 "metadata": {
  "interpreter": {
   "hash": "ae3d18c733f020b5dbf08c8dd041fa90da5eb1ebd89d0bf2fe326770d1a001ea"
  },
  "kernelspec": {
   "display_name": "Python 3 (ipykernel)",
   "language": "python",
   "name": "python3"
  },
  "language_info": {
   "codemirror_mode": {
    "name": "ipython",
    "version": 3
   },
   "file_extension": ".py",
   "mimetype": "text/x-python",
   "name": "python",
   "nbconvert_exporter": "python",
   "pygments_lexer": "ipython3",
   "version": "3.9.13"
  }
 },
 "nbformat": 4,
 "nbformat_minor": 2
}
