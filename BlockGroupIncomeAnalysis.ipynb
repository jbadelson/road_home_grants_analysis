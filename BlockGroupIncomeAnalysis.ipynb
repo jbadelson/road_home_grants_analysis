{
 "cells": [
  {
   "cell_type": "code",
   "execution_count": 1,
   "metadata": {},
   "outputs": [
    {
     "name": "stderr",
     "output_type": "stream",
     "text": [
      "/usr/local/lib/python3.9/site-packages/geopandas/_compat.py:106: UserWarning: The Shapely GEOS version (3.8.0-CAPI-1.13.1 ) is incompatible with the GEOS version PyGEOS was compiled with (3.9.1-CAPI-1.14.2). Conversions between both will be slow.\n",
      "  warnings.warn(\n"
     ]
    }
   ],
   "source": [
    "import pandas as pd\n",
    "import geopandas as gpd\n",
    "import matplotlib.pyplot as plt\n",
    "import seaborn as sns\n",
    "plt.style.use('style/advocate.mplstyle')\n",
    "%matplotlib inline\n",
    "pd.set_option('display.float_format', lambda x: f'{x:,.2f}')\n",
    "pd.set_option('display.max_rows', 100)\n",
    "pd.set_option('display.max_columns', 100)"
   ]
  },
  {
   "cell_type": "markdown",
   "metadata": {},
   "source": [
    "# Block group income analysis\n",
    "\n",
    "Compare uncovered damage vs. income level/poverty level (we would use 2000 Census data – “what did it look like before you got the grant”, a pre-flood view) GeoIDs for the blocks are all 2000.\n",
    "Assigned: Sophie\n",
    "Needs:\n",
    "This nonprofit has already matched tracts to neighborhoods (https://www.datacenterresearch.org/); Jeff will pop data into the drive\n",
    "What ACS time period should we use?\n",
    "Timing: Days (let’s check in on our Monday meeting 9/19)\n",
    "Status: In progress\n"
   ]
  },
  {
   "cell_type": "markdown",
   "metadata": {},
   "source": [
    "### Load Flooding data\n",
    "- rh_block_groups_nola_flood_GT3\n",
    "- These files have racial/ethnic demographic information and the Road Home data. Note that as with the neighborhoods file, the demographic information is the aggregate of all the blocks in the block group but the RH data only aggregates blocks that had more than 3 feet of flooding."
   ]
  },
  {
   "cell_type": "code",
   "execution_count": 5,
   "metadata": {},
   "outputs": [],
   "source": [
    "df_flood = pd.read_csv('processed data/rh_block_groups_nola_flood_GT3.csv', index_col=0)"
   ]
  },
  {
   "cell_type": "code",
   "execution_count": 6,
   "metadata": {},
   "outputs": [
    {
     "data": {
      "text/plain": [
       "485"
      ]
     },
     "execution_count": 6,
     "metadata": {},
     "output_type": "execute_result"
    }
   ],
   "source": [
    "len(df_flood)"
   ]
  },
  {
   "cell_type": "code",
   "execution_count": 18,
   "metadata": {},
   "outputs": [
    {
     "data": {
      "text/plain": [
       "Index(['BKGPIDFP00', 'geometry', 'GEOID', 'compensation_sum',\n",
       "       'additional_compensation_sum', 'elevation_sum', 'mitigation_sum',\n",
       "       'all_grants_sum', 'all_grants_count', 'value_sum', 'damage_sum',\n",
       "       'insurance_sum', 'Total', 'White', 'Black', 'Hispanic', 'Indigenous',\n",
       "       'Asian', 'NHOPI', 'Other', 'Multiracial', 'households_2000_total',\n",
       "       'households_2000_owner_occupied',\n",
       "       'households_2000_owner_occupied_black', 'damage_mean',\n",
       "       'grant_insurance_sum', 'grant_insurance_mean', 'uncovered_sum',\n",
       "       'uncovered_mean', 'uncovered_percent', 'white_percent',\n",
       "       'rh_household_pct', 'households_2000_owner_occupied_pct',\n",
       "       'households_2000_owner_occupied_black_pct'],\n",
       "      dtype='object')"
      ]
     },
     "execution_count": 18,
     "metadata": {},
     "output_type": "execute_result"
    }
   ],
   "source": [
    "df_flood.columns"
   ]
  },
  {
   "cell_type": "markdown",
   "metadata": {},
   "source": [
    "### Load Census block group data from IPUMS\n",
    "Compare uncovered damage vs. income level/poverty level (we would use 2000 Census data – “what did it look like before you got the grant”, a pre-flood view) GeoIDs for the blocks are all 2000.\n",
    "\n"
   ]
  },
  {
   "cell_type": "code",
   "execution_count": 8,
   "metadata": {},
   "outputs": [],
   "source": [
    "df_census = pd.read_csv('raw data/nhgis0008_csv/nhgis0008_ds152_2000_blck_grp.csv')"
   ]
  },
  {
   "cell_type": "code",
   "execution_count": 9,
   "metadata": {},
   "outputs": [
    {
     "data": {
      "text/plain": [
       "3509"
      ]
     },
     "execution_count": 9,
     "metadata": {},
     "output_type": "execute_result"
    }
   ],
   "source": [
    "len(df_census) # should be 3509"
   ]
  },
  {
   "cell_type": "markdown",
   "metadata": {},
   "source": [
    "### Limit to just census block groups in Orleans parish"
   ]
  },
  {
   "cell_type": "code",
   "execution_count": 11,
   "metadata": {},
   "outputs": [
    {
     "data": {
      "text/plain": [
       "Index(['GISJOIN', 'YEAR', 'STATE', 'STATEA', 'COUNTY', 'COUNTYA', 'CTY_SUBA',\n",
       "       'PLACEA', 'TRACTA', 'BLCK_GRPA', 'AIANHHA', 'URBRURALA', 'NAME',\n",
       "       'HF5001', 'HF5002', 'HF5003', 'HF5004', 'HF5005', 'HF5006', 'HF5007',\n",
       "       'HF5008', 'HF5009', 'HF5010', 'HF5011', 'HF5012', 'HF5013', 'HF5014',\n",
       "       'HF5015', 'HF5016', 'HF6001', 'HHE001', 'HHE002', 'HHS001', 'HHS002'],\n",
       "      dtype='object')"
      ]
     },
     "execution_count": 11,
     "metadata": {},
     "output_type": "execute_result"
    }
   ],
   "source": [
    "df_census.columns"
   ]
  },
  {
   "cell_type": "code",
   "execution_count": 14,
   "metadata": {},
   "outputs": [
    {
     "data": {
      "text/plain": [
       "Orleans             485\n",
       "Jefferson           357\n",
       "East Baton Rouge    306\n",
       "Caddo               210\n",
       "Calcasieu           133\n",
       "Lafayette           131\n",
       "Ouachita            126\n",
       "St Tammany          101\n",
       "Rapides              96\n",
       "Terrebonne           80\n",
       "Name: COUNTY, dtype: int64"
      ]
     },
     "execution_count": 14,
     "metadata": {},
     "output_type": "execute_result"
    }
   ],
   "source": [
    "df_census.COUNTY.value_counts()[:10]"
   ]
  },
  {
   "cell_type": "code",
   "execution_count": 15,
   "metadata": {},
   "outputs": [],
   "source": [
    "df_orleans = df_census[df_census.COUNTY == \"Orleans\"]"
   ]
  },
  {
   "cell_type": "code",
   "execution_count": 16,
   "metadata": {},
   "outputs": [
    {
     "data": {
      "text/plain": [
       "485"
      ]
     },
     "execution_count": 16,
     "metadata": {},
     "output_type": "execute_result"
    }
   ],
   "source": [
    "len(df_orleans)"
   ]
  },
  {
   "cell_type": "code",
   "execution_count": 92,
   "metadata": {},
   "outputs": [
    {
     "data": {
      "text/plain": [
       "1    176\n",
       "2    158\n",
       "3     95\n",
       "4     42\n",
       "5      9\n",
       "6      4\n",
       "7      1\n",
       "Name: BLCK_GRPA, dtype: int64"
      ]
     },
     "execution_count": 92,
     "metadata": {},
     "output_type": "execute_result"
    }
   ],
   "source": [
    "df_orleans.BLCK_GRPA.value_counts()"
   ]
  },
  {
   "cell_type": "code",
   "execution_count": 17,
   "metadata": {},
   "outputs": [
    {
     "data": {
      "text/html": [
       "<div>\n",
       "<style scoped>\n",
       "    .dataframe tbody tr th:only-of-type {\n",
       "        vertical-align: middle;\n",
       "    }\n",
       "\n",
       "    .dataframe tbody tr th {\n",
       "        vertical-align: top;\n",
       "    }\n",
       "\n",
       "    .dataframe thead th {\n",
       "        text-align: right;\n",
       "    }\n",
       "</style>\n",
       "<table border=\"1\" class=\"dataframe\">\n",
       "  <thead>\n",
       "    <tr style=\"text-align: right;\">\n",
       "      <th></th>\n",
       "      <th>GISJOIN</th>\n",
       "      <th>YEAR</th>\n",
       "      <th>STATE</th>\n",
       "      <th>STATEA</th>\n",
       "      <th>COUNTY</th>\n",
       "      <th>COUNTYA</th>\n",
       "      <th>CTY_SUBA</th>\n",
       "      <th>PLACEA</th>\n",
       "      <th>TRACTA</th>\n",
       "      <th>BLCK_GRPA</th>\n",
       "      <th>AIANHHA</th>\n",
       "      <th>URBRURALA</th>\n",
       "      <th>NAME</th>\n",
       "      <th>HF5001</th>\n",
       "      <th>HF5002</th>\n",
       "      <th>HF5003</th>\n",
       "      <th>HF5004</th>\n",
       "      <th>HF5005</th>\n",
       "      <th>HF5006</th>\n",
       "      <th>HF5007</th>\n",
       "      <th>HF5008</th>\n",
       "      <th>HF5009</th>\n",
       "      <th>HF5010</th>\n",
       "      <th>HF5011</th>\n",
       "      <th>HF5012</th>\n",
       "      <th>HF5013</th>\n",
       "      <th>HF5014</th>\n",
       "      <th>HF5015</th>\n",
       "      <th>HF5016</th>\n",
       "      <th>HF6001</th>\n",
       "      <th>HHE001</th>\n",
       "      <th>HHE002</th>\n",
       "      <th>HHS001</th>\n",
       "      <th>HHS002</th>\n",
       "    </tr>\n",
       "  </thead>\n",
       "  <tbody>\n",
       "    <tr>\n",
       "      <th>1931</th>\n",
       "      <td>G22007100001001</td>\n",
       "      <td>2000</td>\n",
       "      <td>Louisiana</td>\n",
       "      <td>22</td>\n",
       "      <td>Orleans</td>\n",
       "      <td>71</td>\n",
       "      <td>NaN</td>\n",
       "      <td>NaN</td>\n",
       "      <td>100</td>\n",
       "      <td>1</td>\n",
       "      <td>NaN</td>\n",
       "      <td>NaN</td>\n",
       "      <td>Block Group 1</td>\n",
       "      <td>43</td>\n",
       "      <td>17</td>\n",
       "      <td>18</td>\n",
       "      <td>13</td>\n",
       "      <td>18</td>\n",
       "      <td>42</td>\n",
       "      <td>50</td>\n",
       "      <td>3</td>\n",
       "      <td>36</td>\n",
       "      <td>9</td>\n",
       "      <td>27</td>\n",
       "      <td>36</td>\n",
       "      <td>16</td>\n",
       "      <td>8</td>\n",
       "      <td>9</td>\n",
       "      <td>6</td>\n",
       "      <td>37269</td>\n",
       "      <td>294</td>\n",
       "      <td>679</td>\n",
       "      <td>58</td>\n",
       "      <td>293</td>\n",
       "    </tr>\n",
       "    <tr>\n",
       "      <th>1932</th>\n",
       "      <td>G22007100001002</td>\n",
       "      <td>2000</td>\n",
       "      <td>Louisiana</td>\n",
       "      <td>22</td>\n",
       "      <td>Orleans</td>\n",
       "      <td>71</td>\n",
       "      <td>NaN</td>\n",
       "      <td>NaN</td>\n",
       "      <td>100</td>\n",
       "      <td>2</td>\n",
       "      <td>NaN</td>\n",
       "      <td>NaN</td>\n",
       "      <td>Block Group 2</td>\n",
       "      <td>21</td>\n",
       "      <td>54</td>\n",
       "      <td>41</td>\n",
       "      <td>23</td>\n",
       "      <td>28</td>\n",
       "      <td>19</td>\n",
       "      <td>25</td>\n",
       "      <td>22</td>\n",
       "      <td>42</td>\n",
       "      <td>42</td>\n",
       "      <td>24</td>\n",
       "      <td>3</td>\n",
       "      <td>13</td>\n",
       "      <td>0</td>\n",
       "      <td>7</td>\n",
       "      <td>12</td>\n",
       "      <td>35278</td>\n",
       "      <td>86</td>\n",
       "      <td>782</td>\n",
       "      <td>43</td>\n",
       "      <td>333</td>\n",
       "    </tr>\n",
       "    <tr>\n",
       "      <th>1933</th>\n",
       "      <td>G22007100001003</td>\n",
       "      <td>2000</td>\n",
       "      <td>Louisiana</td>\n",
       "      <td>22</td>\n",
       "      <td>Orleans</td>\n",
       "      <td>71</td>\n",
       "      <td>NaN</td>\n",
       "      <td>NaN</td>\n",
       "      <td>100</td>\n",
       "      <td>3</td>\n",
       "      <td>NaN</td>\n",
       "      <td>NaN</td>\n",
       "      <td>Block Group 3</td>\n",
       "      <td>28</td>\n",
       "      <td>15</td>\n",
       "      <td>16</td>\n",
       "      <td>35</td>\n",
       "      <td>14</td>\n",
       "      <td>3</td>\n",
       "      <td>35</td>\n",
       "      <td>38</td>\n",
       "      <td>3</td>\n",
       "      <td>43</td>\n",
       "      <td>46</td>\n",
       "      <td>43</td>\n",
       "      <td>13</td>\n",
       "      <td>15</td>\n",
       "      <td>0</td>\n",
       "      <td>6</td>\n",
       "      <td>44185</td>\n",
       "      <td>37</td>\n",
       "      <td>531</td>\n",
       "      <td>28</td>\n",
       "      <td>325</td>\n",
       "    </tr>\n",
       "    <tr>\n",
       "      <th>1934</th>\n",
       "      <td>G22007100002001</td>\n",
       "      <td>2000</td>\n",
       "      <td>Louisiana</td>\n",
       "      <td>22</td>\n",
       "      <td>Orleans</td>\n",
       "      <td>71</td>\n",
       "      <td>NaN</td>\n",
       "      <td>NaN</td>\n",
       "      <td>200</td>\n",
       "      <td>1</td>\n",
       "      <td>NaN</td>\n",
       "      <td>NaN</td>\n",
       "      <td>Block Group 1</td>\n",
       "      <td>80</td>\n",
       "      <td>29</td>\n",
       "      <td>34</td>\n",
       "      <td>53</td>\n",
       "      <td>37</td>\n",
       "      <td>18</td>\n",
       "      <td>9</td>\n",
       "      <td>6</td>\n",
       "      <td>11</td>\n",
       "      <td>0</td>\n",
       "      <td>22</td>\n",
       "      <td>17</td>\n",
       "      <td>0</td>\n",
       "      <td>0</td>\n",
       "      <td>8</td>\n",
       "      <td>0</td>\n",
       "      <td>21979</td>\n",
       "      <td>372</td>\n",
       "      <td>381</td>\n",
       "      <td>130</td>\n",
       "      <td>194</td>\n",
       "    </tr>\n",
       "    <tr>\n",
       "      <th>1935</th>\n",
       "      <td>G22007100002002</td>\n",
       "      <td>2000</td>\n",
       "      <td>Louisiana</td>\n",
       "      <td>22</td>\n",
       "      <td>Orleans</td>\n",
       "      <td>71</td>\n",
       "      <td>NaN</td>\n",
       "      <td>NaN</td>\n",
       "      <td>200</td>\n",
       "      <td>2</td>\n",
       "      <td>NaN</td>\n",
       "      <td>NaN</td>\n",
       "      <td>Block Group 2</td>\n",
       "      <td>80</td>\n",
       "      <td>18</td>\n",
       "      <td>28</td>\n",
       "      <td>21</td>\n",
       "      <td>25</td>\n",
       "      <td>0</td>\n",
       "      <td>4</td>\n",
       "      <td>5</td>\n",
       "      <td>0</td>\n",
       "      <td>8</td>\n",
       "      <td>8</td>\n",
       "      <td>4</td>\n",
       "      <td>0</td>\n",
       "      <td>0</td>\n",
       "      <td>0</td>\n",
       "      <td>0</td>\n",
       "      <td>15298</td>\n",
       "      <td>331</td>\n",
       "      <td>379</td>\n",
       "      <td>76</td>\n",
       "      <td>125</td>\n",
       "    </tr>\n",
       "  </tbody>\n",
       "</table>\n",
       "</div>"
      ],
      "text/plain": [
       "              GISJOIN  YEAR      STATE  STATEA   COUNTY  COUNTYA  CTY_SUBA  \\\n",
       "1931  G22007100001001  2000  Louisiana      22  Orleans       71       NaN   \n",
       "1932  G22007100001002  2000  Louisiana      22  Orleans       71       NaN   \n",
       "1933  G22007100001003  2000  Louisiana      22  Orleans       71       NaN   \n",
       "1934  G22007100002001  2000  Louisiana      22  Orleans       71       NaN   \n",
       "1935  G22007100002002  2000  Louisiana      22  Orleans       71       NaN   \n",
       "\n",
       "      PLACEA  TRACTA  BLCK_GRPA  AIANHHA  URBRURALA           NAME  HF5001  \\\n",
       "1931     NaN     100          1      NaN        NaN  Block Group 1      43   \n",
       "1932     NaN     100          2      NaN        NaN  Block Group 2      21   \n",
       "1933     NaN     100          3      NaN        NaN  Block Group 3      28   \n",
       "1934     NaN     200          1      NaN        NaN  Block Group 1      80   \n",
       "1935     NaN     200          2      NaN        NaN  Block Group 2      80   \n",
       "\n",
       "      HF5002  HF5003  HF5004  HF5005  HF5006  HF5007  HF5008  HF5009  HF5010  \\\n",
       "1931      17      18      13      18      42      50       3      36       9   \n",
       "1932      54      41      23      28      19      25      22      42      42   \n",
       "1933      15      16      35      14       3      35      38       3      43   \n",
       "1934      29      34      53      37      18       9       6      11       0   \n",
       "1935      18      28      21      25       0       4       5       0       8   \n",
       "\n",
       "      HF5011  HF5012  HF5013  HF5014  HF5015  HF5016  HF6001  HHE001  HHE002  \\\n",
       "1931      27      36      16       8       9       6   37269     294     679   \n",
       "1932      24       3      13       0       7      12   35278      86     782   \n",
       "1933      46      43      13      15       0       6   44185      37     531   \n",
       "1934      22      17       0       0       8       0   21979     372     381   \n",
       "1935       8       4       0       0       0       0   15298     331     379   \n",
       "\n",
       "      HHS001  HHS002  \n",
       "1931      58     293  \n",
       "1932      43     333  \n",
       "1933      28     325  \n",
       "1934     130     194  \n",
       "1935      76     125  "
      ]
     },
     "execution_count": 17,
     "metadata": {},
     "output_type": "execute_result"
    }
   ],
   "source": [
    "df_orleans.head()"
   ]
  },
  {
   "cell_type": "markdown",
   "metadata": {},
   "source": [
    "### Convert GISJOIN to GEOID\n",
    "- Remove G\n",
    "- Remove zero in third/4th digit  \n",
    "- Remove 6th/8th digit (0)   \n",
    "- 12 digits is block group code"
   ]
  },
  {
   "cell_type": "code",
   "execution_count": 21,
   "metadata": {},
   "outputs": [
    {
     "data": {
      "text/plain": [
       "15"
      ]
     },
     "execution_count": 21,
     "metadata": {},
     "output_type": "execute_result"
    }
   ],
   "source": [
    "len('G22007100001001')"
   ]
  },
  {
   "cell_type": "code",
   "execution_count": 20,
   "metadata": {},
   "outputs": [
    {
     "data": {
      "text/plain": [
       "12"
      ]
     },
     "execution_count": 20,
     "metadata": {},
     "output_type": "execute_result"
    }
   ],
   "source": [
    "len(\"220710033042\")"
   ]
  },
  {
   "cell_type": "code",
   "execution_count": 31,
   "metadata": {},
   "outputs": [
    {
     "data": {
      "text/plain": [
       "1931    G22007100001001\n",
       "1932    G22007100001002\n",
       "1933    G22007100001003\n",
       "1934    G22007100002001\n",
       "1935    G22007100002002\n",
       "             ...       \n",
       "2411    G22007100133012\n",
       "2412    G22007100133013\n",
       "2413    G22007100133014\n",
       "2414    G22007100133021\n",
       "2415    G22007100133022\n",
       "Name: GISJOIN, Length: 485, dtype: object"
      ]
     },
     "execution_count": 31,
     "metadata": {},
     "output_type": "execute_result"
    }
   ],
   "source": [
    "df_orleans.GISJOIN "
   ]
  },
  {
   "cell_type": "code",
   "execution_count": 41,
   "metadata": {},
   "outputs": [
    {
     "name": "stderr",
     "output_type": "stream",
     "text": [
      "<ipython-input-41-f45f25be0a73>:1: SettingWithCopyWarning: \n",
      "A value is trying to be set on a copy of a slice from a DataFrame.\n",
      "Try using .loc[row_indexer,col_indexer] = value instead\n",
      "\n",
      "See the caveats in the documentation: https://pandas.pydata.org/pandas-docs/stable/user_guide/indexing.html#returning-a-view-versus-a-copy\n",
      "  df_orleans[\"GEOID\"] = df_orleans.GISJOIN.str[1:3] + df_orleans.GISJOIN.str[4:7] + df_orleans.GISJOIN.str[8:]\n"
     ]
    }
   ],
   "source": [
    "df_orleans[\"GEOID\"] = df_orleans.GISJOIN.str[1:3] + df_orleans.GISJOIN.str[4:7] + df_orleans.GISJOIN.str[8:] "
   ]
  },
  {
   "cell_type": "markdown",
   "metadata": {},
   "source": [
    "### Join two datasets"
   ]
  },
  {
   "cell_type": "code",
   "execution_count": 43,
   "metadata": {},
   "outputs": [
    {
     "data": {
      "text/plain": [
       "485"
      ]
     },
     "execution_count": 43,
     "metadata": {},
     "output_type": "execute_result"
    }
   ],
   "source": [
    "len(df_orleans.GEOID.unique()) ## Good, 485 unique rows"
   ]
  },
  {
   "cell_type": "code",
   "execution_count": 49,
   "metadata": {},
   "outputs": [],
   "source": [
    "df_flood['GEOID'] = df_flood.GEOID.astype(\"str\") # convert to string"
   ]
  },
  {
   "cell_type": "code",
   "execution_count": 51,
   "metadata": {},
   "outputs": [],
   "source": [
    "df_merged = df_flood.merge(df_orleans, left_on=\"GEOID\", right_on=\"GEOID\")"
   ]
  },
  {
   "cell_type": "code",
   "execution_count": 52,
   "metadata": {},
   "outputs": [
    {
     "data": {
      "text/plain": [
       "485"
      ]
     },
     "execution_count": 52,
     "metadata": {},
     "output_type": "execute_result"
    }
   ],
   "source": [
    "len(df_merged)"
   ]
  },
  {
   "cell_type": "markdown",
   "metadata": {},
   "source": [
    "### Rename columns"
   ]
  },
  {
   "cell_type": "code",
   "execution_count": 54,
   "metadata": {},
   "outputs": [
    {
     "data": {
      "text/plain": [
       "Index(['BKGPIDFP00', 'geometry', 'GEOID', 'compensation_sum',\n",
       "       'additional_compensation_sum', 'elevation_sum', 'mitigation_sum',\n",
       "       'all_grants_sum', 'all_grants_count', 'value_sum', 'damage_sum',\n",
       "       'insurance_sum', 'Total', 'White', 'Black', 'Hispanic', 'Indigenous',\n",
       "       'Asian', 'NHOPI', 'Other', 'Multiracial', 'households_2000_total',\n",
       "       'households_2000_owner_occupied',\n",
       "       'households_2000_owner_occupied_black', 'damage_mean',\n",
       "       'grant_insurance_sum', 'grant_insurance_mean', 'uncovered_sum',\n",
       "       'uncovered_mean', 'uncovered_percent', 'white_percent',\n",
       "       'rh_household_pct', 'households_2000_owner_occupied_pct',\n",
       "       'households_2000_owner_occupied_black_pct', 'GISJOIN', 'YEAR', 'STATE',\n",
       "       'STATEA', 'COUNTY', 'COUNTYA', 'CTY_SUBA', 'PLACEA', 'TRACTA',\n",
       "       'BLCK_GRPA', 'AIANHHA', 'URBRURALA', 'NAME', 'HF5001', 'HF5002',\n",
       "       'HF5003', 'HF5004', 'HF5005', 'HF5006', 'HF5007', 'HF5008', 'HF5009',\n",
       "       'HF5010', 'HF5011', 'HF5012', 'HF5013', 'HF5014', 'HF5015', 'HF5016',\n",
       "       'HF6001', 'HHE001', 'HHE002', 'HHS001', 'HHS002'],\n",
       "      dtype='object')"
      ]
     },
     "execution_count": 54,
     "metadata": {},
     "output_type": "execute_result"
    }
   ],
   "source": [
    "df_merged.columns"
   ]
  },
  {
   "cell_type": "code",
   "execution_count": 56,
   "metadata": {},
   "outputs": [],
   "source": [
    "df_merged.rename(columns={\"HF5001\":\"lt_10000\",\n",
    "\"HF5002\":\"10000_1499\",\n",
    "\"HF5003\":\"15000_19999\",\n",
    "\"HF5004\":\"20000_24,999\",\n",
    "\"HF5005\":\"25000_29999\",\n",
    "\"HF5006\":\"30000_34999\",\n",
    "\"HF5007\":\"35000_39999\",\n",
    "\"HF5008\":\"40000_44999\",\n",
    "\"HF5009\":\"45000_49999\",\n",
    "\"HF5010\":\"50000_59999\",\n",
    "\"HF5011\":\"60000_74999\",\n",
    "\"HF5012\":\"75000_99999\",\n",
    "\"HF5013\":\"100000_124999\",\n",
    "\"HF5014\":\"125000_149999\",\n",
    "\"HF5015\":\"150000_199999\",\n",
    "\"HF5016\":\"gte_200000\",\n",
    "\"HF6001\":\"median_income\",\n",
    "\"HHE001\":\"below_poverty_level\",\n",
    "\"HHE002\":\"at_or_below_poverty_level\"}, inplace=True)"
   ]
  },
  {
   "cell_type": "code",
   "execution_count": null,
   "metadata": {},
   "outputs": [],
   "source": []
  },
  {
   "cell_type": "code",
   "execution_count": null,
   "metadata": {},
   "outputs": [],
   "source": []
  },
  {
   "cell_type": "code",
   "execution_count": null,
   "metadata": {},
   "outputs": [],
   "source": []
  },
  {
   "cell_type": "code",
   "execution_count": null,
   "metadata": {},
   "outputs": [],
   "source": []
  },
  {
   "cell_type": "code",
   "execution_count": 53,
   "metadata": {},
   "outputs": [],
   "source": [
    "## Save joined data!\n",
    "df_merged.to_csv('processed data/rh_blocks_nola_flood_GT3_w_income_poverty.csv')"
   ]
  },
  {
   "cell_type": "code",
   "execution_count": null,
   "metadata": {},
   "outputs": [],
   "source": []
  }
 ],
 "metadata": {
  "interpreter": {
   "hash": "ae3d18c733f020b5dbf08c8dd041fa90da5eb1ebd89d0bf2fe326770d1a001ea"
  },
  "kernelspec": {
   "display_name": "Python 3",
   "language": "python",
   "name": "python3"
  },
  "language_info": {
   "codemirror_mode": {
    "name": "ipython",
    "version": 3
   },
   "file_extension": ".py",
   "mimetype": "text/x-python",
   "name": "python",
   "nbconvert_exporter": "python",
   "pygments_lexer": "ipython3",
   "version": "3.9.14"
  }
 },
 "nbformat": 4,
 "nbformat_minor": 2
}
