{
 "cells": [
  {
   "cell_type": "code",
   "execution_count": 1,
   "metadata": {},
   "outputs": [],
   "source": [
    "import pandas as pd\n",
    "import geopandas as gpd\n",
    "import matplotlib.pyplot as plt\n",
    "import seaborn as sns\n",
    "plt.style.use('style/advocate.mplstyle')\n",
    "%matplotlib inline\n",
    "pd.set_option('display.float_format', lambda x: f'{x:,.2f}')\n",
    "pd.set_option('display.max_rows', 100)\n",
    "pd.set_option('display.max_columns', 100)"
   ]
  },
  {
   "cell_type": "markdown",
   "metadata": {},
   "source": [
    "## Test different versions of RH dataset"
   ]
  },
  {
   "cell_type": "code",
   "execution_count": null,
   "metadata": {},
   "outputs": [],
   "source": []
  },
  {
   "cell_type": "code",
   "execution_count": null,
   "metadata": {},
   "outputs": [],
   "source": []
  },
  {
   "cell_type": "code",
   "execution_count": null,
   "metadata": {},
   "outputs": [],
   "source": []
  },
  {
   "cell_type": "code",
   "execution_count": null,
   "metadata": {},
   "outputs": [],
   "source": []
  },
  {
   "cell_type": "code",
   "execution_count": null,
   "metadata": {},
   "outputs": [],
   "source": []
  },
  {
   "cell_type": "code",
   "execution_count": null,
   "metadata": {},
   "outputs": [],
   "source": []
  },
  {
   "cell_type": "markdown",
   "metadata": {},
   "source": [
    "# Block group income analysis\n",
    "\n",
    "Compare uncovered damage vs. income level/poverty level (we would use 2000 Census data – “what did it look like before you got the grant”, a pre-flood view) GeoIDs for the blocks are all 2000.\n",
    "Assigned: Sophie\n",
    "Needs:\n",
    "This nonprofit has already matched tracts to neighborhoods (https://www.datacenterresearch.org/); Jeff will pop data into the drive\n",
    "What ACS time period should we use?\n",
    "Timing: Days (let’s check in on our Monday meeting 9/19)\n",
    "Status: In progress\n"
   ]
  },
  {
   "cell_type": "markdown",
   "metadata": {},
   "source": [
    "### Load Flooding data\n",
    "- rh_block_groups_nola_flood_GT3\n",
    "- These files have racial/ethnic demographic information and the Road Home data. Note that as with the neighborhoods file, the demographic information is the aggregate of all the blocks in the block group but the RH data only aggregates blocks that had more than 3 feet of flooding."
   ]
  },
  {
   "cell_type": "code",
   "execution_count": 2,
   "metadata": {},
   "outputs": [],
   "source": [
    "df_flood = pd.read_csv('processed data/rh_block_groups_nola_flood_GT3.csv', index_col=0)"
   ]
  },
  {
   "cell_type": "code",
   "execution_count": 3,
   "metadata": {},
   "outputs": [
    {
     "data": {
      "text/plain": [
       "485"
      ]
     },
     "execution_count": 3,
     "metadata": {},
     "output_type": "execute_result"
    }
   ],
   "source": [
    "len(df_flood)"
   ]
  },
  {
   "cell_type": "code",
   "execution_count": 4,
   "metadata": {},
   "outputs": [
    {
     "data": {
      "text/plain": [
       "Index(['BKGPIDFP00', 'GEOID', 'compensation_sum',\n",
       "       'additional_compensation_sum', 'elevation_sum', 'mitigation_sum',\n",
       "       'all_grants_sum', 'all_grants_count', 'value_sum', 'damage_sum',\n",
       "       'insurance_sum', 'Total', 'White', 'Black', 'Hispanic', 'Indigenous',\n",
       "       'Asian', 'NHOPI', 'Other', 'Multiracial', 'households_2000_total',\n",
       "       'households_2000_owner_occupied',\n",
       "       'households_2000_owner_occupied_black', 'buyouts_count', 'buyouts_sum',\n",
       "       'Neighborhood', 'damage_mean', 'grant_insurance_sum',\n",
       "       'grant_insurance_mean', 'uncovered_sum', 'uncovered_mean',\n",
       "       'uncovered_percent', 'white_percent', 'rh_household_pct',\n",
       "       'households_2000_owner_occupied_pct',\n",
       "       'households_2000_owner_occupied_black_pct', 'buyouts_households_pct',\n",
       "       'buyouts_owner_occupied_pct'],\n",
       "      dtype='object')"
      ]
     },
     "execution_count": 4,
     "metadata": {},
     "output_type": "execute_result"
    }
   ],
   "source": [
    "df_flood.columns"
   ]
  },
  {
   "cell_type": "markdown",
   "metadata": {},
   "source": [
    "### Load Census block group data from IPUMS\n",
    "Compare uncovered damage vs. income level/poverty level (we would use 2000 Census data – “what did it look like before you got the grant”, a pre-flood view) GeoIDs for the blocks are all 2000.\n",
    "\n"
   ]
  },
  {
   "cell_type": "code",
   "execution_count": 5,
   "metadata": {},
   "outputs": [],
   "source": [
    "df_census = pd.read_csv('raw data/nhgis0015_csv/nhgis0015_ds152_2000_blck_grp.csv')"
   ]
  },
  {
   "cell_type": "code",
   "execution_count": 6,
   "metadata": {},
   "outputs": [
    {
     "data": {
      "text/plain": [
       "3509"
      ]
     },
     "execution_count": 6,
     "metadata": {},
     "output_type": "execute_result"
    }
   ],
   "source": [
    "len(df_census) # should be 3509"
   ]
  },
  {
   "cell_type": "markdown",
   "metadata": {},
   "source": [
    "### Limit to just census block groups in Orleans parish"
   ]
  },
  {
   "cell_type": "code",
   "execution_count": 7,
   "metadata": {},
   "outputs": [
    {
     "data": {
      "text/plain": [
       "Index(['GISJOIN', 'YEAR', 'STATE', 'STATEA', 'COUNTY', 'COUNTYA', 'CTY_SUBA',\n",
       "       'PLACEA', 'TRACTA', 'BLCK_GRPA', 'AIANHHA', 'URBRURALA', 'NAME',\n",
       "       'HAK001', 'HAQ001', 'HAQ002', 'HAR001', 'HAR002', 'HAR003', 'HAR004',\n",
       "       'HAR005', 'HAR006', 'HAR007', 'HAR008', 'HAR009', 'HAR010', 'HAR011',\n",
       "       'HAR012', 'HAR013', 'HAR014', 'HA2001', 'HF5001', 'HF5002', 'HF5003',\n",
       "       'HF5004', 'HF5005', 'HF5006', 'HF5007', 'HF5008', 'HF5009', 'HF5010',\n",
       "       'HF5011', 'HF5012', 'HF5013', 'HF5014', 'HF5015', 'HF5016', 'HF6001',\n",
       "       'HF7001', 'HHE001', 'HHE002', 'HHS001', 'HHS002'],\n",
       "      dtype='object')"
      ]
     },
     "execution_count": 7,
     "metadata": {},
     "output_type": "execute_result"
    }
   ],
   "source": [
    "df_census.columns"
   ]
  },
  {
   "cell_type": "code",
   "execution_count": 8,
   "metadata": {},
   "outputs": [
    {
     "data": {
      "text/plain": [
       "Orleans             485\n",
       "Jefferson           357\n",
       "East Baton Rouge    306\n",
       "Caddo               210\n",
       "Calcasieu           133\n",
       "Lafayette           131\n",
       "Ouachita            126\n",
       "St Tammany          101\n",
       "Rapides              96\n",
       "Terrebonne           80\n",
       "Name: COUNTY, dtype: int64"
      ]
     },
     "execution_count": 8,
     "metadata": {},
     "output_type": "execute_result"
    }
   ],
   "source": [
    "df_census.COUNTY.value_counts()[:10]"
   ]
  },
  {
   "cell_type": "code",
   "execution_count": 9,
   "metadata": {},
   "outputs": [],
   "source": [
    "df_orleans = df_census[df_census.COUNTY == \"Orleans\"]"
   ]
  },
  {
   "cell_type": "code",
   "execution_count": 10,
   "metadata": {},
   "outputs": [
    {
     "data": {
      "text/plain": [
       "485"
      ]
     },
     "execution_count": 10,
     "metadata": {},
     "output_type": "execute_result"
    }
   ],
   "source": [
    "len(df_orleans)"
   ]
  },
  {
   "cell_type": "code",
   "execution_count": 11,
   "metadata": {},
   "outputs": [
    {
     "data": {
      "text/plain": [
       "1    176\n",
       "2    158\n",
       "3     95\n",
       "4     42\n",
       "5      9\n",
       "6      4\n",
       "7      1\n",
       "Name: BLCK_GRPA, dtype: int64"
      ]
     },
     "execution_count": 11,
     "metadata": {},
     "output_type": "execute_result"
    }
   ],
   "source": [
    "df_orleans.BLCK_GRPA.value_counts()"
   ]
  },
  {
   "cell_type": "code",
   "execution_count": 12,
   "metadata": {},
   "outputs": [
    {
     "data": {
      "text/html": [
       "<div>\n",
       "<style scoped>\n",
       "    .dataframe tbody tr th:only-of-type {\n",
       "        vertical-align: middle;\n",
       "    }\n",
       "\n",
       "    .dataframe tbody tr th {\n",
       "        vertical-align: top;\n",
       "    }\n",
       "\n",
       "    .dataframe thead th {\n",
       "        text-align: right;\n",
       "    }\n",
       "</style>\n",
       "<table border=\"1\" class=\"dataframe\">\n",
       "  <thead>\n",
       "    <tr style=\"text-align: right;\">\n",
       "      <th></th>\n",
       "      <th>GISJOIN</th>\n",
       "      <th>YEAR</th>\n",
       "      <th>STATE</th>\n",
       "      <th>STATEA</th>\n",
       "      <th>COUNTY</th>\n",
       "      <th>COUNTYA</th>\n",
       "      <th>CTY_SUBA</th>\n",
       "      <th>PLACEA</th>\n",
       "      <th>TRACTA</th>\n",
       "      <th>BLCK_GRPA</th>\n",
       "      <th>AIANHHA</th>\n",
       "      <th>URBRURALA</th>\n",
       "      <th>NAME</th>\n",
       "      <th>HAK001</th>\n",
       "      <th>HAQ001</th>\n",
       "      <th>HAQ002</th>\n",
       "      <th>HAR001</th>\n",
       "      <th>HAR002</th>\n",
       "      <th>HAR003</th>\n",
       "      <th>HAR004</th>\n",
       "      <th>HAR005</th>\n",
       "      <th>HAR006</th>\n",
       "      <th>HAR007</th>\n",
       "      <th>HAR008</th>\n",
       "      <th>HAR009</th>\n",
       "      <th>HAR010</th>\n",
       "      <th>HAR011</th>\n",
       "      <th>HAR012</th>\n",
       "      <th>HAR013</th>\n",
       "      <th>HAR014</th>\n",
       "      <th>HA2001</th>\n",
       "      <th>HF5001</th>\n",
       "      <th>HF5002</th>\n",
       "      <th>HF5003</th>\n",
       "      <th>HF5004</th>\n",
       "      <th>HF5005</th>\n",
       "      <th>HF5006</th>\n",
       "      <th>HF5007</th>\n",
       "      <th>HF5008</th>\n",
       "      <th>HF5009</th>\n",
       "      <th>HF5010</th>\n",
       "      <th>HF5011</th>\n",
       "      <th>HF5012</th>\n",
       "      <th>HF5013</th>\n",
       "      <th>HF5014</th>\n",
       "      <th>HF5015</th>\n",
       "      <th>HF5016</th>\n",
       "      <th>HF6001</th>\n",
       "      <th>HF7001</th>\n",
       "      <th>HHE001</th>\n",
       "      <th>HHE002</th>\n",
       "      <th>HHS001</th>\n",
       "      <th>HHS002</th>\n",
       "    </tr>\n",
       "  </thead>\n",
       "  <tbody>\n",
       "    <tr>\n",
       "      <th>1931</th>\n",
       "      <td>G22007100001001</td>\n",
       "      <td>2000</td>\n",
       "      <td>Louisiana</td>\n",
       "      <td>22</td>\n",
       "      <td>Orleans</td>\n",
       "      <td>71</td>\n",
       "      <td>NaN</td>\n",
       "      <td>NaN</td>\n",
       "      <td>100</td>\n",
       "      <td>1</td>\n",
       "      <td>NaN</td>\n",
       "      <td>NaN</td>\n",
       "      <td>Block Group 1</td>\n",
       "      <td>973</td>\n",
       "      <td>936</td>\n",
       "      <td>37</td>\n",
       "      <td>531</td>\n",
       "      <td>353</td>\n",
       "      <td>13</td>\n",
       "      <td>23</td>\n",
       "      <td>0</td>\n",
       "      <td>0</td>\n",
       "      <td>16</td>\n",
       "      <td>28</td>\n",
       "      <td>0</td>\n",
       "      <td>0</td>\n",
       "      <td>9</td>\n",
       "      <td>0</td>\n",
       "      <td>0</td>\n",
       "      <td>0</td>\n",
       "      <td>351</td>\n",
       "      <td>43</td>\n",
       "      <td>17</td>\n",
       "      <td>18</td>\n",
       "      <td>13</td>\n",
       "      <td>18</td>\n",
       "      <td>42</td>\n",
       "      <td>50</td>\n",
       "      <td>3</td>\n",
       "      <td>36</td>\n",
       "      <td>9</td>\n",
       "      <td>27</td>\n",
       "      <td>36</td>\n",
       "      <td>16</td>\n",
       "      <td>8</td>\n",
       "      <td>9</td>\n",
       "      <td>6</td>\n",
       "      <td>37269</td>\n",
       "      <td>19557400</td>\n",
       "      <td>294</td>\n",
       "      <td>679</td>\n",
       "      <td>58</td>\n",
       "      <td>293</td>\n",
       "    </tr>\n",
       "    <tr>\n",
       "      <th>1932</th>\n",
       "      <td>G22007100001002</td>\n",
       "      <td>2000</td>\n",
       "      <td>Louisiana</td>\n",
       "      <td>22</td>\n",
       "      <td>Orleans</td>\n",
       "      <td>71</td>\n",
       "      <td>NaN</td>\n",
       "      <td>NaN</td>\n",
       "      <td>100</td>\n",
       "      <td>2</td>\n",
       "      <td>NaN</td>\n",
       "      <td>NaN</td>\n",
       "      <td>Block Group 2</td>\n",
       "      <td>868</td>\n",
       "      <td>817</td>\n",
       "      <td>51</td>\n",
       "      <td>551</td>\n",
       "      <td>245</td>\n",
       "      <td>0</td>\n",
       "      <td>0</td>\n",
       "      <td>0</td>\n",
       "      <td>0</td>\n",
       "      <td>21</td>\n",
       "      <td>51</td>\n",
       "      <td>0</td>\n",
       "      <td>0</td>\n",
       "      <td>0</td>\n",
       "      <td>0</td>\n",
       "      <td>0</td>\n",
       "      <td>0</td>\n",
       "      <td>376</td>\n",
       "      <td>21</td>\n",
       "      <td>54</td>\n",
       "      <td>41</td>\n",
       "      <td>23</td>\n",
       "      <td>28</td>\n",
       "      <td>19</td>\n",
       "      <td>25</td>\n",
       "      <td>22</td>\n",
       "      <td>42</td>\n",
       "      <td>42</td>\n",
       "      <td>24</td>\n",
       "      <td>3</td>\n",
       "      <td>13</td>\n",
       "      <td>0</td>\n",
       "      <td>7</td>\n",
       "      <td>12</td>\n",
       "      <td>35278</td>\n",
       "      <td>18725700</td>\n",
       "      <td>86</td>\n",
       "      <td>782</td>\n",
       "      <td>43</td>\n",
       "      <td>333</td>\n",
       "    </tr>\n",
       "    <tr>\n",
       "      <th>1933</th>\n",
       "      <td>G22007100001003</td>\n",
       "      <td>2000</td>\n",
       "      <td>Louisiana</td>\n",
       "      <td>22</td>\n",
       "      <td>Orleans</td>\n",
       "      <td>71</td>\n",
       "      <td>NaN</td>\n",
       "      <td>NaN</td>\n",
       "      <td>100</td>\n",
       "      <td>3</td>\n",
       "      <td>NaN</td>\n",
       "      <td>NaN</td>\n",
       "      <td>Block Group 3</td>\n",
       "      <td>568</td>\n",
       "      <td>491</td>\n",
       "      <td>77</td>\n",
       "      <td>442</td>\n",
       "      <td>45</td>\n",
       "      <td>4</td>\n",
       "      <td>0</td>\n",
       "      <td>0</td>\n",
       "      <td>0</td>\n",
       "      <td>0</td>\n",
       "      <td>11</td>\n",
       "      <td>0</td>\n",
       "      <td>0</td>\n",
       "      <td>0</td>\n",
       "      <td>0</td>\n",
       "      <td>66</td>\n",
       "      <td>0</td>\n",
       "      <td>353</td>\n",
       "      <td>28</td>\n",
       "      <td>15</td>\n",
       "      <td>16</td>\n",
       "      <td>35</td>\n",
       "      <td>14</td>\n",
       "      <td>3</td>\n",
       "      <td>35</td>\n",
       "      <td>38</td>\n",
       "      <td>3</td>\n",
       "      <td>43</td>\n",
       "      <td>46</td>\n",
       "      <td>43</td>\n",
       "      <td>13</td>\n",
       "      <td>15</td>\n",
       "      <td>0</td>\n",
       "      <td>6</td>\n",
       "      <td>44185</td>\n",
       "      <td>18370000</td>\n",
       "      <td>37</td>\n",
       "      <td>531</td>\n",
       "      <td>28</td>\n",
       "      <td>325</td>\n",
       "    </tr>\n",
       "    <tr>\n",
       "      <th>1934</th>\n",
       "      <td>G22007100002001</td>\n",
       "      <td>2000</td>\n",
       "      <td>Louisiana</td>\n",
       "      <td>22</td>\n",
       "      <td>Orleans</td>\n",
       "      <td>71</td>\n",
       "      <td>NaN</td>\n",
       "      <td>NaN</td>\n",
       "      <td>200</td>\n",
       "      <td>1</td>\n",
       "      <td>NaN</td>\n",
       "      <td>NaN</td>\n",
       "      <td>Block Group 1</td>\n",
       "      <td>753</td>\n",
       "      <td>753</td>\n",
       "      <td>0</td>\n",
       "      <td>94</td>\n",
       "      <td>659</td>\n",
       "      <td>0</td>\n",
       "      <td>0</td>\n",
       "      <td>0</td>\n",
       "      <td>0</td>\n",
       "      <td>0</td>\n",
       "      <td>0</td>\n",
       "      <td>0</td>\n",
       "      <td>0</td>\n",
       "      <td>0</td>\n",
       "      <td>0</td>\n",
       "      <td>0</td>\n",
       "      <td>0</td>\n",
       "      <td>324</td>\n",
       "      <td>80</td>\n",
       "      <td>29</td>\n",
       "      <td>34</td>\n",
       "      <td>53</td>\n",
       "      <td>37</td>\n",
       "      <td>18</td>\n",
       "      <td>9</td>\n",
       "      <td>6</td>\n",
       "      <td>11</td>\n",
       "      <td>0</td>\n",
       "      <td>22</td>\n",
       "      <td>17</td>\n",
       "      <td>0</td>\n",
       "      <td>0</td>\n",
       "      <td>8</td>\n",
       "      <td>0</td>\n",
       "      <td>21979</td>\n",
       "      <td>9070200</td>\n",
       "      <td>372</td>\n",
       "      <td>381</td>\n",
       "      <td>130</td>\n",
       "      <td>194</td>\n",
       "    </tr>\n",
       "    <tr>\n",
       "      <th>1935</th>\n",
       "      <td>G22007100002002</td>\n",
       "      <td>2000</td>\n",
       "      <td>Louisiana</td>\n",
       "      <td>22</td>\n",
       "      <td>Orleans</td>\n",
       "      <td>71</td>\n",
       "      <td>NaN</td>\n",
       "      <td>NaN</td>\n",
       "      <td>200</td>\n",
       "      <td>2</td>\n",
       "      <td>NaN</td>\n",
       "      <td>NaN</td>\n",
       "      <td>Block Group 2</td>\n",
       "      <td>710</td>\n",
       "      <td>710</td>\n",
       "      <td>0</td>\n",
       "      <td>144</td>\n",
       "      <td>530</td>\n",
       "      <td>0</td>\n",
       "      <td>0</td>\n",
       "      <td>0</td>\n",
       "      <td>13</td>\n",
       "      <td>23</td>\n",
       "      <td>0</td>\n",
       "      <td>0</td>\n",
       "      <td>0</td>\n",
       "      <td>0</td>\n",
       "      <td>0</td>\n",
       "      <td>0</td>\n",
       "      <td>0</td>\n",
       "      <td>201</td>\n",
       "      <td>80</td>\n",
       "      <td>18</td>\n",
       "      <td>28</td>\n",
       "      <td>21</td>\n",
       "      <td>25</td>\n",
       "      <td>0</td>\n",
       "      <td>4</td>\n",
       "      <td>5</td>\n",
       "      <td>0</td>\n",
       "      <td>8</td>\n",
       "      <td>8</td>\n",
       "      <td>4</td>\n",
       "      <td>0</td>\n",
       "      <td>0</td>\n",
       "      <td>0</td>\n",
       "      <td>0</td>\n",
       "      <td>15298</td>\n",
       "      <td>3837400</td>\n",
       "      <td>331</td>\n",
       "      <td>379</td>\n",
       "      <td>76</td>\n",
       "      <td>125</td>\n",
       "    </tr>\n",
       "  </tbody>\n",
       "</table>\n",
       "</div>"
      ],
      "text/plain": [
       "              GISJOIN  YEAR      STATE  STATEA   COUNTY  COUNTYA  CTY_SUBA  \\\n",
       "1931  G22007100001001  2000  Louisiana      22  Orleans       71       NaN   \n",
       "1932  G22007100001002  2000  Louisiana      22  Orleans       71       NaN   \n",
       "1933  G22007100001003  2000  Louisiana      22  Orleans       71       NaN   \n",
       "1934  G22007100002001  2000  Louisiana      22  Orleans       71       NaN   \n",
       "1935  G22007100002002  2000  Louisiana      22  Orleans       71       NaN   \n",
       "\n",
       "      PLACEA  TRACTA  BLCK_GRPA  AIANHHA  URBRURALA           NAME  HAK001  \\\n",
       "1931     NaN     100          1      NaN        NaN  Block Group 1     973   \n",
       "1932     NaN     100          2      NaN        NaN  Block Group 2     868   \n",
       "1933     NaN     100          3      NaN        NaN  Block Group 3     568   \n",
       "1934     NaN     200          1      NaN        NaN  Block Group 1     753   \n",
       "1935     NaN     200          2      NaN        NaN  Block Group 2     710   \n",
       "\n",
       "      HAQ001  HAQ002  HAR001  HAR002  HAR003  HAR004  HAR005  HAR006  HAR007  \\\n",
       "1931     936      37     531     353      13      23       0       0      16   \n",
       "1932     817      51     551     245       0       0       0       0      21   \n",
       "1933     491      77     442      45       4       0       0       0       0   \n",
       "1934     753       0      94     659       0       0       0       0       0   \n",
       "1935     710       0     144     530       0       0       0      13      23   \n",
       "\n",
       "      HAR008  HAR009  HAR010  HAR011  HAR012  HAR013  HAR014  HA2001  HF5001  \\\n",
       "1931      28       0       0       9       0       0       0     351      43   \n",
       "1932      51       0       0       0       0       0       0     376      21   \n",
       "1933      11       0       0       0       0      66       0     353      28   \n",
       "1934       0       0       0       0       0       0       0     324      80   \n",
       "1935       0       0       0       0       0       0       0     201      80   \n",
       "\n",
       "      HF5002  HF5003  HF5004  HF5005  HF5006  HF5007  HF5008  HF5009  HF5010  \\\n",
       "1931      17      18      13      18      42      50       3      36       9   \n",
       "1932      54      41      23      28      19      25      22      42      42   \n",
       "1933      15      16      35      14       3      35      38       3      43   \n",
       "1934      29      34      53      37      18       9       6      11       0   \n",
       "1935      18      28      21      25       0       4       5       0       8   \n",
       "\n",
       "      HF5011  HF5012  HF5013  HF5014  HF5015  HF5016  HF6001    HF7001  \\\n",
       "1931      27      36      16       8       9       6   37269  19557400   \n",
       "1932      24       3      13       0       7      12   35278  18725700   \n",
       "1933      46      43      13      15       0       6   44185  18370000   \n",
       "1934      22      17       0       0       8       0   21979   9070200   \n",
       "1935       8       4       0       0       0       0   15298   3837400   \n",
       "\n",
       "      HHE001  HHE002  HHS001  HHS002  \n",
       "1931     294     679      58     293  \n",
       "1932      86     782      43     333  \n",
       "1933      37     531      28     325  \n",
       "1934     372     381     130     194  \n",
       "1935     331     379      76     125  "
      ]
     },
     "execution_count": 12,
     "metadata": {},
     "output_type": "execute_result"
    }
   ],
   "source": [
    "df_orleans.head()"
   ]
  },
  {
   "cell_type": "markdown",
   "metadata": {},
   "source": [
    "### Convert GISJOIN to GEOID\n",
    "- Remove G\n",
    "- Remove zero in third/4th digit  \n",
    "- Remove 6th/8th digit (0)   \n",
    "- 12 digits is block group code"
   ]
  },
  {
   "cell_type": "code",
   "execution_count": 13,
   "metadata": {},
   "outputs": [
    {
     "data": {
      "text/plain": [
       "15"
      ]
     },
     "execution_count": 13,
     "metadata": {},
     "output_type": "execute_result"
    }
   ],
   "source": [
    "len('G22007100001001')"
   ]
  },
  {
   "cell_type": "code",
   "execution_count": 14,
   "metadata": {},
   "outputs": [
    {
     "data": {
      "text/plain": [
       "12"
      ]
     },
     "execution_count": 14,
     "metadata": {},
     "output_type": "execute_result"
    }
   ],
   "source": [
    "len(\"220710033042\")"
   ]
  },
  {
   "cell_type": "code",
   "execution_count": 15,
   "metadata": {},
   "outputs": [
    {
     "data": {
      "text/plain": [
       "1931    G22007100001001\n",
       "1932    G22007100001002\n",
       "1933    G22007100001003\n",
       "1934    G22007100002001\n",
       "1935    G22007100002002\n",
       "             ...       \n",
       "2411    G22007100133012\n",
       "2412    G22007100133013\n",
       "2413    G22007100133014\n",
       "2414    G22007100133021\n",
       "2415    G22007100133022\n",
       "Name: GISJOIN, Length: 485, dtype: object"
      ]
     },
     "execution_count": 15,
     "metadata": {},
     "output_type": "execute_result"
    }
   ],
   "source": [
    "df_orleans.GISJOIN "
   ]
  },
  {
   "cell_type": "code",
   "execution_count": 16,
   "metadata": {},
   "outputs": [
    {
     "name": "stderr",
     "output_type": "stream",
     "text": [
      "/var/folders/lq/khd9lvz50xgf7_c979__svxc0000gp/T/ipykernel_23662/3782955437.py:1: SettingWithCopyWarning: \n",
      "A value is trying to be set on a copy of a slice from a DataFrame.\n",
      "Try using .loc[row_indexer,col_indexer] = value instead\n",
      "\n",
      "See the caveats in the documentation: https://pandas.pydata.org/pandas-docs/stable/user_guide/indexing.html#returning-a-view-versus-a-copy\n",
      "  df_orleans[\"GEOID\"] = df_orleans.GISJOIN.str[1:3] + df_orleans.GISJOIN.str[4:7] + df_orleans.GISJOIN.str[8:]\n"
     ]
    }
   ],
   "source": [
    "df_orleans[\"GEOID\"] = df_orleans.GISJOIN.str[1:3] + df_orleans.GISJOIN.str[4:7] + df_orleans.GISJOIN.str[8:] "
   ]
  },
  {
   "cell_type": "markdown",
   "metadata": {},
   "source": [
    "### Join two datasets"
   ]
  },
  {
   "cell_type": "code",
   "execution_count": 17,
   "metadata": {},
   "outputs": [
    {
     "data": {
      "text/plain": [
       "485"
      ]
     },
     "execution_count": 17,
     "metadata": {},
     "output_type": "execute_result"
    }
   ],
   "source": [
    "len(df_orleans.GEOID.unique()) ## Good, 485 unique rows"
   ]
  },
  {
   "cell_type": "code",
   "execution_count": 18,
   "metadata": {},
   "outputs": [],
   "source": [
    "df_flood['GEOID'] = df_flood.GEOID.astype(\"str\") # convert to string"
   ]
  },
  {
   "cell_type": "code",
   "execution_count": 19,
   "metadata": {},
   "outputs": [],
   "source": [
    "df_merged = df_flood.merge(df_orleans, left_on=\"GEOID\", right_on=\"GEOID\")"
   ]
  },
  {
   "cell_type": "code",
   "execution_count": 20,
   "metadata": {},
   "outputs": [
    {
     "data": {
      "text/plain": [
       "485"
      ]
     },
     "execution_count": 20,
     "metadata": {},
     "output_type": "execute_result"
    }
   ],
   "source": [
    "len(df_merged)"
   ]
  },
  {
   "cell_type": "markdown",
   "metadata": {},
   "source": [
    "### Rename subset of columns -- we can save the rest for later."
   ]
  },
  {
   "cell_type": "code",
   "execution_count": 21,
   "metadata": {},
   "outputs": [],
   "source": [
    "df_merged.rename(columns=\n",
    "{\"HAK001\": \"total_pop\",\n",
    "\"HA2001\":\"total_households\",\n",
    "\"HAQ001\": \"not_hispanic\",\n",
    "\"HAQ002\": \"hispanic\",\n",
    "\"HAR001\":\"not_hispanic_white\",\n",
    "\"HAR002\":\"not_hispanic_black\",\n",
    "\"HAR003\":\"not_hispanic_native\",\n",
    "\"HAR004\":\"not_hispanic_asian\",\n",
    "\"HAR005\":\"not_hispanic_pacific_islander\",\n",
    "\"HAR006\":\"not_hispanic_other\",\n",
    "\"HAR007\":\"not_hispanic_two_or_more\",\n",
    "\"HAR008\":\"hispanic_white\",\n",
    "\"HAR009\":\"hispanic_black\",\n",
    "\"HAR010\":\"hispanic_native\",\n",
    "\"HAR011\":\"hispanic_asian\",\n",
    "\"HAR012\":\"hispanic_pacific_islander\",\n",
    "\"HAR013\":\"hispanic_other\",\n",
    "\"HAR014\":\"hispanic_two_or_more\",\n",
    "\"HF5001\":\"hh_lt_10000\",\n",
    "\"HF5002\":\"hh_10000_1499\",\n",
    "\"HF5003\":\"hh_15000_19999\",\n",
    "\"HF5004\":\"hh_20000_24,999\",\n",
    "\"HF5005\":\"hh_25000_29999\",\n",
    "\"HF5006\":\"hh_30000_34999\",\n",
    "\"HF5007\":\"hh_35000_39999\",\n",
    "\"HF5008\":\"hh_40000_44999\",\n",
    "\"HF5009\":\"hh_45000_49999\",\n",
    "\"HF5010\":\"hh_50000_59999\",\n",
    "\"HF5011\":\"hh_60000_74999\",\n",
    "\"HF5012\":\"hh_75000_99999\",\n",
    "\"HF5013\":\"hh_100000_124999\",\n",
    "\"HF5014\":\"hh_125000_149999\",\n",
    "\"HF5015\":\"hh_150000_199999\",\n",
    "\"HF5016\":\"hh_gte_200000\",\n",
    "\"HF6001\":\"hh_median_income\",\n",
    "\"HHE001\":\"persons_below_poverty_level\",\n",
    "\"HHE002\":\"persons_at_or_below_poverty_level\",\n",
    "\"HHS001\":\"hh_below_poverty_level\",\n",
    "\"HHS002\":\"hh_at_or_below_poverty_level\"}, inplace=True)"
   ]
  },
  {
   "cell_type": "code",
   "execution_count": 22,
   "metadata": {},
   "outputs": [
    {
     "data": {
      "text/plain": [
       "Index(['BKGPIDFP00', 'GEOID', 'compensation_sum',\n",
       "       'additional_compensation_sum', 'elevation_sum', 'mitigation_sum',\n",
       "       'all_grants_sum', 'all_grants_count', 'value_sum', 'damage_sum',\n",
       "       'insurance_sum', 'Total', 'White', 'Black', 'Hispanic', 'Indigenous',\n",
       "       'Asian', 'NHOPI', 'Other', 'Multiracial', 'households_2000_total',\n",
       "       'households_2000_owner_occupied',\n",
       "       'households_2000_owner_occupied_black', 'buyouts_count', 'buyouts_sum',\n",
       "       'Neighborhood', 'damage_mean', 'grant_insurance_sum',\n",
       "       'grant_insurance_mean', 'uncovered_sum', 'uncovered_mean',\n",
       "       'uncovered_percent', 'white_percent', 'rh_household_pct',\n",
       "       'households_2000_owner_occupied_pct',\n",
       "       'households_2000_owner_occupied_black_pct', 'buyouts_households_pct',\n",
       "       'buyouts_owner_occupied_pct', 'GISJOIN', 'YEAR', 'STATE', 'STATEA',\n",
       "       'COUNTY', 'COUNTYA', 'CTY_SUBA', 'PLACEA', 'TRACTA', 'BLCK_GRPA',\n",
       "       'AIANHHA', 'URBRURALA', 'NAME', 'total_pop', 'not_hispanic', 'hispanic',\n",
       "       'not_hispanic_white', 'not_hispanic_black', 'not_hispanic_native',\n",
       "       'not_hispanic_asian', 'not_hispanic_pacific_islander',\n",
       "       'not_hispanic_other', 'not_hispanic_two_or_more', 'hispanic_white',\n",
       "       'hispanic_black', 'hispanic_native', 'hispanic_asian',\n",
       "       'hispanic_pacific_islander', 'hispanic_other', 'hispanic_two_or_more',\n",
       "       'total_households', 'hh_lt_10000', 'hh_10000_1499', 'hh_15000_19999',\n",
       "       'hh_20000_24,999', 'hh_25000_29999', 'hh_30000_34999', 'hh_35000_39999',\n",
       "       'hh_40000_44999', 'hh_45000_49999', 'hh_50000_59999', 'hh_60000_74999',\n",
       "       'hh_75000_99999', 'hh_100000_124999', 'hh_125000_149999',\n",
       "       'hh_150000_199999', 'hh_gte_200000', 'hh_median_income', 'HF7001',\n",
       "       'persons_below_poverty_level', 'persons_at_or_below_poverty_level',\n",
       "       'hh_below_poverty_level', 'hh_at_or_below_poverty_level'],\n",
       "      dtype='object')"
      ]
     },
     "execution_count": 22,
     "metadata": {},
     "output_type": "execute_result"
    }
   ],
   "source": [
    "df_merged.columns"
   ]
  },
  {
   "cell_type": "markdown",
   "metadata": {},
   "source": [
    "### Compare with Jeff's dataset (non-sampled Census)"
   ]
  },
  {
   "cell_type": "code",
   "execution_count": 23,
   "metadata": {},
   "outputs": [
    {
     "data": {
      "text/html": [
       "<div>\n",
       "<style scoped>\n",
       "    .dataframe tbody tr th:only-of-type {\n",
       "        vertical-align: middle;\n",
       "    }\n",
       "\n",
       "    .dataframe tbody tr th {\n",
       "        vertical-align: top;\n",
       "    }\n",
       "\n",
       "    .dataframe thead th {\n",
       "        text-align: right;\n",
       "    }\n",
       "</style>\n",
       "<table border=\"1\" class=\"dataframe\">\n",
       "  <thead>\n",
       "    <tr style=\"text-align: right;\">\n",
       "      <th></th>\n",
       "      <th>Black</th>\n",
       "      <th>not_hispanic_black</th>\n",
       "      <th>Total</th>\n",
       "      <th>total_pop</th>\n",
       "    </tr>\n",
       "  </thead>\n",
       "  <tbody>\n",
       "    <tr>\n",
       "      <th>0</th>\n",
       "      <td>609</td>\n",
       "      <td>45</td>\n",
       "      <td>732</td>\n",
       "      <td>568</td>\n",
       "    </tr>\n",
       "    <tr>\n",
       "      <th>1</th>\n",
       "      <td>356</td>\n",
       "      <td>353</td>\n",
       "      <td>598</td>\n",
       "      <td>973</td>\n",
       "    </tr>\n",
       "    <tr>\n",
       "      <th>2</th>\n",
       "      <td>665</td>\n",
       "      <td>245</td>\n",
       "      <td>1039</td>\n",
       "      <td>868</td>\n",
       "    </tr>\n",
       "    <tr>\n",
       "      <th>3</th>\n",
       "      <td>680</td>\n",
       "      <td>530</td>\n",
       "      <td>1210</td>\n",
       "      <td>710</td>\n",
       "    </tr>\n",
       "    <tr>\n",
       "      <th>4</th>\n",
       "      <td>723</td>\n",
       "      <td>659</td>\n",
       "      <td>892</td>\n",
       "      <td>753</td>\n",
       "    </tr>\n",
       "    <tr>\n",
       "      <th>5</th>\n",
       "      <td>1993</td>\n",
       "      <td>1071</td>\n",
       "      <td>2456</td>\n",
       "      <td>1372</td>\n",
       "    </tr>\n",
       "    <tr>\n",
       "      <th>6</th>\n",
       "      <td>1425</td>\n",
       "      <td>14</td>\n",
       "      <td>2105</td>\n",
       "      <td>1002</td>\n",
       "    </tr>\n",
       "    <tr>\n",
       "      <th>7</th>\n",
       "      <td>471</td>\n",
       "      <td>15</td>\n",
       "      <td>651</td>\n",
       "      <td>705</td>\n",
       "    </tr>\n",
       "    <tr>\n",
       "      <th>8</th>\n",
       "      <td>379</td>\n",
       "      <td>236</td>\n",
       "      <td>563</td>\n",
       "      <td>662</td>\n",
       "    </tr>\n",
       "    <tr>\n",
       "      <th>9</th>\n",
       "      <td>692</td>\n",
       "      <td>71</td>\n",
       "      <td>1360</td>\n",
       "      <td>731</td>\n",
       "    </tr>\n",
       "    <tr>\n",
       "      <th>10</th>\n",
       "      <td>883</td>\n",
       "      <td>0</td>\n",
       "      <td>1206</td>\n",
       "      <td>990</td>\n",
       "    </tr>\n",
       "    <tr>\n",
       "      <th>11</th>\n",
       "      <td>832</td>\n",
       "      <td>19</td>\n",
       "      <td>1210</td>\n",
       "      <td>688</td>\n",
       "    </tr>\n",
       "    <tr>\n",
       "      <th>12</th>\n",
       "      <td>631</td>\n",
       "      <td>204</td>\n",
       "      <td>1411</td>\n",
       "      <td>839</td>\n",
       "    </tr>\n",
       "    <tr>\n",
       "      <th>13</th>\n",
       "      <td>804</td>\n",
       "      <td>499</td>\n",
       "      <td>1258</td>\n",
       "      <td>670</td>\n",
       "    </tr>\n",
       "    <tr>\n",
       "      <th>14</th>\n",
       "      <td>853</td>\n",
       "      <td>0</td>\n",
       "      <td>1186</td>\n",
       "      <td>765</td>\n",
       "    </tr>\n",
       "    <tr>\n",
       "      <th>15</th>\n",
       "      <td>912</td>\n",
       "      <td>16</td>\n",
       "      <td>1326</td>\n",
       "      <td>507</td>\n",
       "    </tr>\n",
       "    <tr>\n",
       "      <th>16</th>\n",
       "      <td>166</td>\n",
       "      <td>108</td>\n",
       "      <td>306</td>\n",
       "      <td>608</td>\n",
       "    </tr>\n",
       "    <tr>\n",
       "      <th>17</th>\n",
       "      <td>152</td>\n",
       "      <td>337</td>\n",
       "      <td>257</td>\n",
       "      <td>686</td>\n",
       "    </tr>\n",
       "    <tr>\n",
       "      <th>18</th>\n",
       "      <td>816</td>\n",
       "      <td>229</td>\n",
       "      <td>1229</td>\n",
       "      <td>773</td>\n",
       "    </tr>\n",
       "    <tr>\n",
       "      <th>19</th>\n",
       "      <td>290</td>\n",
       "      <td>31</td>\n",
       "      <td>392</td>\n",
       "      <td>694</td>\n",
       "    </tr>\n",
       "  </tbody>\n",
       "</table>\n",
       "</div>"
      ],
      "text/plain": [
       "    Black  not_hispanic_black  Total  total_pop\n",
       "0     609                  45    732        568\n",
       "1     356                 353    598        973\n",
       "2     665                 245   1039        868\n",
       "3     680                 530   1210        710\n",
       "4     723                 659    892        753\n",
       "5    1993                1071   2456       1372\n",
       "6    1425                  14   2105       1002\n",
       "7     471                  15    651        705\n",
       "8     379                 236    563        662\n",
       "9     692                  71   1360        731\n",
       "10    883                   0   1206        990\n",
       "11    832                  19   1210        688\n",
       "12    631                 204   1411        839\n",
       "13    804                 499   1258        670\n",
       "14    853                   0   1186        765\n",
       "15    912                  16   1326        507\n",
       "16    166                 108    306        608\n",
       "17    152                 337    257        686\n",
       "18    816                 229   1229        773\n",
       "19    290                  31    392        694"
      ]
     },
     "execution_count": 23,
     "metadata": {},
     "output_type": "execute_result"
    }
   ],
   "source": [
    "df_merged[['Black','not_hispanic_black',\"Total\",\"total_pop\" ]].head(20)"
   ]
  },
  {
   "cell_type": "markdown",
   "metadata": {},
   "source": [
    "## Data check: Jeff's census data, SF3 table, SF1B table from IPUMS"
   ]
  },
  {
   "cell_type": "code",
   "execution_count": 24,
   "metadata": {},
   "outputs": [],
   "source": [
    "df_sf1b = pd.read_csv('raw data/nhgis0013_csv/nhgis0013_ds147_2000_blck_grp.csv')"
   ]
  },
  {
   "cell_type": "code",
   "execution_count": 25,
   "metadata": {},
   "outputs": [],
   "source": [
    "df_sf1b[\"GEOID\"] = df_sf1b.GISJOIN.str[1:3] + df_sf1b.GISJOIN.str[4:7] + df_orleans.GISJOIN.str[8:] "
   ]
  },
  {
   "cell_type": "code",
   "execution_count": 26,
   "metadata": {},
   "outputs": [],
   "source": [
    "#super joined table for checking\n",
    "df_superset = df_merged.merge(df_sf1b, left_on=\"GEOID\", right_on=\"GEOID\")"
   ]
  },
  {
   "cell_type": "code",
   "execution_count": 27,
   "metadata": {},
   "outputs": [
    {
     "data": {
      "text/plain": [
       "485"
      ]
     },
     "execution_count": 27,
     "metadata": {},
     "output_type": "execute_result"
    }
   ],
   "source": [
    "len(df_superset)"
   ]
  },
  {
   "cell_type": "code",
   "execution_count": 28,
   "metadata": {},
   "outputs": [],
   "source": [
    "# Comparison between Jeff's data, table 3, data including hispanic, table 2 non hispanic black, Total from Jeff, total from table 3, total from table 2"
   ]
  },
  {
   "cell_type": "code",
   "execution_count": 29,
   "metadata": {},
   "outputs": [],
   "source": [
    "df_superset[['Black','not_hispanic_black',\"FYF002\", \"Total\",\"total_pop\",\"FXS001\" ]].to_csv('processed data/data_comparison_test.csv')"
   ]
  },
  {
   "cell_type": "markdown",
   "metadata": {},
   "source": [
    "## Calculate poverty statistics"
   ]
  },
  {
   "cell_type": "code",
   "execution_count": 58,
   "metadata": {},
   "outputs": [],
   "source": [
    "## NOTE: DO NOT USE \"TOTAL_POP_POVERTY_STATUS\" or HHD001. USE INCOME_LT_POVERTY_LVL or HHE001: Income in 1999 below poverty level\n",
    "df_merged['percent_poverty_status'] = df_merged['hh_below_poverty_level']/df_merged['total_households']"
   ]
  },
  {
   "cell_type": "code",
   "execution_count": 59,
   "metadata": {
    "scrolled": true
   },
   "outputs": [
    {
     "data": {
      "text/plain": [
       "count   482.00\n",
       "mean      0.27\n",
       "std       0.17\n",
       "min       0.00\n",
       "25%       0.13\n",
       "50%       0.25\n",
       "75%       0.38\n",
       "max       0.84\n",
       "Name: percent_poverty_status, dtype: float64"
      ]
     },
     "execution_count": 59,
     "metadata": {},
     "output_type": "execute_result"
    }
   ],
   "source": [
    "df_merged.percent_poverty_status.describe()"
   ]
  },
  {
   "cell_type": "markdown",
   "metadata": {},
   "source": [
    "Overall uncovered percent"
   ]
  },
  {
   "cell_type": "code",
   "execution_count": 60,
   "metadata": {},
   "outputs": [
    {
     "data": {
      "text/plain": [
       "0.23895349154659212"
      ]
     },
     "execution_count": 60,
     "metadata": {},
     "output_type": "execute_result"
    }
   ],
   "source": [
    "df_merged.uncovered_percent.mean()"
   ]
  },
  {
   "cell_type": "code",
   "execution_count": 61,
   "metadata": {},
   "outputs": [
    {
     "data": {
      "text/plain": [
       "0.2334800630039512"
      ]
     },
     "execution_count": 61,
     "metadata": {},
     "output_type": "execute_result"
    }
   ],
   "source": [
    "df_merged.uncovered_percent.median()"
   ]
  },
  {
   "cell_type": "code",
   "execution_count": 62,
   "metadata": {},
   "outputs": [
    {
     "data": {
      "text/plain": [
       "0.09729174919062707"
      ]
     },
     "execution_count": 62,
     "metadata": {},
     "output_type": "execute_result"
    }
   ],
   "source": [
    "df_merged.uncovered_percent.std()"
   ]
  },
  {
   "cell_type": "code",
   "execution_count": 63,
   "metadata": {},
   "outputs": [
    {
     "data": {
      "text/plain": [
       "<AxesSubplot:>"
      ]
     },
     "execution_count": 63,
     "metadata": {},
     "output_type": "execute_result"
    },
    {
     "data": {
      "image/png": "[encoded data removed]",
      "text/plain": [
       "<Figure size 1600x900 with 1 Axes>"
      ]
     },
     "metadata": {},
     "output_type": "display_data"
    }
   ],
   "source": [
    "df_merged.uncovered_percent.hist(bins=50)"
   ]
  },
  {
   "cell_type": "markdown",
   "metadata": {},
   "source": [
    "For those block groups where there was a poverty rate of 25% or LESS, the average uncovered_percent was X."
   ]
  },
  {
   "cell_type": "code",
   "execution_count": 64,
   "metadata": {},
   "outputs": [],
   "source": [
    "df_25 = df_merged[df_merged.percent_poverty_status <= .25]"
   ]
  },
  {
   "cell_type": "code",
   "execution_count": 65,
   "metadata": {},
   "outputs": [
    {
     "data": {
      "text/plain": [
       "0.24405254680349345"
      ]
     },
     "execution_count": 65,
     "metadata": {},
     "output_type": "execute_result"
    }
   ],
   "source": [
    "df_25.uncovered_percent.mean()"
   ]
  },
  {
   "cell_type": "markdown",
   "metadata": {},
   "source": [
    "For those block groups where there was a poverty rate of 50% or more, the average uncovered_percent was 31%."
   ]
  },
  {
   "cell_type": "code",
   "execution_count": 38,
   "metadata": {},
   "outputs": [],
   "source": [
    "df_50 = df_merged[df_merged.percent_poverty_status >= .50]"
   ]
  },
  {
   "cell_type": "code",
   "execution_count": 39,
   "metadata": {},
   "outputs": [
    {
     "data": {
      "text/plain": [
       "0.21436934952566702"
      ]
     },
     "execution_count": 39,
     "metadata": {},
     "output_type": "execute_result"
    }
   ],
   "source": [
    "df_50.uncovered_percent.mean()"
   ]
  },
  {
   "cell_type": "code",
   "execution_count": 40,
   "metadata": {},
   "outputs": [
    {
     "data": {
      "text/plain": [
       "0.2000518563836147"
      ]
     },
     "execution_count": 40,
     "metadata": {},
     "output_type": "execute_result"
    }
   ],
   "source": [
    "df_50.uncovered_percent.median()"
   ]
  },
  {
   "cell_type": "markdown",
   "metadata": {},
   "source": [
    "For those block groups where there was a poverty rate of 60% or more, the average uncovered_percent was 45%."
   ]
  },
  {
   "cell_type": "code",
   "execution_count": 41,
   "metadata": {},
   "outputs": [],
   "source": [
    "df_60 = df_merged[df_merged.percent_poverty_status >= .60]"
   ]
  },
  {
   "cell_type": "code",
   "execution_count": 42,
   "metadata": {},
   "outputs": [
    {
     "data": {
      "text/plain": [
       "0.18508221700635882"
      ]
     },
     "execution_count": 42,
     "metadata": {},
     "output_type": "execute_result"
    }
   ],
   "source": [
    "df_60.uncovered_percent.mean()"
   ]
  },
  {
   "cell_type": "code",
   "execution_count": 43,
   "metadata": {},
   "outputs": [
    {
     "data": {
      "text/plain": [
       "0.192761106252426"
      ]
     },
     "execution_count": 43,
     "metadata": {},
     "output_type": "execute_result"
    }
   ],
   "source": [
    "df_60.uncovered_percent.median()"
   ]
  },
  {
   "cell_type": "markdown",
   "metadata": {},
   "source": [
    "For those block groups where there was a poverty rate of 75% or more, the average uncovered_percent was 45%."
   ]
  },
  {
   "cell_type": "code",
   "execution_count": 55,
   "metadata": {},
   "outputs": [],
   "source": [
    "df_75 = df_merged[df_merged.percent_poverty_status >= .75]"
   ]
  },
  {
   "cell_type": "code",
   "execution_count": 56,
   "metadata": {},
   "outputs": [
    {
     "data": {
      "text/plain": [
       "0.23499838610876167"
      ]
     },
     "execution_count": 56,
     "metadata": {},
     "output_type": "execute_result"
    }
   ],
   "source": [
    "df_75.uncovered_percent.mean()"
   ]
  },
  {
   "cell_type": "code",
   "execution_count": 57,
   "metadata": {},
   "outputs": [
    {
     "data": {
      "text/plain": [
       "0.20920472348274316"
      ]
     },
     "execution_count": 57,
     "metadata": {},
     "output_type": "execute_result"
    }
   ],
   "source": [
    "df_75.uncovered_percent.median()"
   ]
  },
  {
   "cell_type": "code",
   "execution_count": null,
   "metadata": {},
   "outputs": [],
   "source": []
  },
  {
   "cell_type": "code",
   "execution_count": null,
   "metadata": {},
   "outputs": [],
   "source": []
  },
  {
   "cell_type": "markdown",
   "metadata": {},
   "source": [
    "## Income analysis"
   ]
  },
  {
   "cell_type": "code",
   "execution_count": 44,
   "metadata": {},
   "outputs": [
    {
     "data": {
      "text/plain": [
       "30094.663917525773"
      ]
     },
     "execution_count": 44,
     "metadata": {},
     "output_type": "execute_result"
    }
   ],
   "source": [
    "df_merged.hh_median_income.mean()"
   ]
  },
  {
   "cell_type": "code",
   "execution_count": 45,
   "metadata": {},
   "outputs": [
    {
     "data": {
      "text/plain": [
       "25273.0"
      ]
     },
     "execution_count": 45,
     "metadata": {},
     "output_type": "execute_result"
    }
   ],
   "source": [
    "df_merged.hh_median_income.median()"
   ]
  },
  {
   "cell_type": "code",
   "execution_count": 46,
   "metadata": {},
   "outputs": [
    {
     "data": {
      "text/plain": [
       "count       485.00\n",
       "mean     30,094.66\n",
       "std      20,269.01\n",
       "min           0.00\n",
       "25%      17,353.00\n",
       "50%      25,273.00\n",
       "75%      36,964.00\n",
       "max     200,001.00\n",
       "Name: hh_median_income, dtype: float64"
      ]
     },
     "execution_count": 46,
     "metadata": {},
     "output_type": "execute_result"
    }
   ],
   "source": [
    "df_merged.hh_median_income.describe()"
   ]
  },
  {
   "cell_type": "code",
   "execution_count": 47,
   "metadata": {},
   "outputs": [
    {
     "data": {
      "text/plain": [
       "0.21032038860722532"
      ]
     },
     "execution_count": 47,
     "metadata": {},
     "output_type": "execute_result"
    }
   ],
   "source": [
    "# SAME AS DATA CENTER\n",
    "df_merged.hh_lt_10000.sum() / df_merged.total_households.sum()"
   ]
  },
  {
   "cell_type": "code",
   "execution_count": 48,
   "metadata": {},
   "outputs": [
    {
     "data": {
      "text/plain": [
       "0.18985353840971345"
      ]
     },
     "execution_count": 48,
     "metadata": {},
     "output_type": "execute_result"
    }
   ],
   "source": [
    "df_merged[df_merged['hh_median_income'] <= 10000].uncovered_percent.mean()"
   ]
  },
  {
   "cell_type": "code",
   "execution_count": 49,
   "metadata": {},
   "outputs": [
    {
     "data": {
      "text/plain": [
       "0.24649872496499486"
      ]
     },
     "execution_count": 49,
     "metadata": {},
     "output_type": "execute_result"
    }
   ],
   "source": [
    "df_merged[(df_merged['hh_median_income'] > 10000)&(df_merged['hh_median_income'] <= 25000)].uncovered_percent.mean()"
   ]
  },
  {
   "cell_type": "code",
   "execution_count": 50,
   "metadata": {},
   "outputs": [
    {
     "data": {
      "text/plain": [
       "0.24471145633799055"
      ]
     },
     "execution_count": 50,
     "metadata": {},
     "output_type": "execute_result"
    }
   ],
   "source": [
    "df_merged[(df_merged['hh_median_income'] > 25000)&(df_merged['hh_median_income'] <= 50000)].uncovered_percent.mean()"
   ]
  },
  {
   "cell_type": "code",
   "execution_count": 51,
   "metadata": {},
   "outputs": [
    {
     "data": {
      "text/plain": [
       "0.22750477036610794"
      ]
     },
     "execution_count": 51,
     "metadata": {},
     "output_type": "execute_result"
    }
   ],
   "source": [
    "df_merged[(df_merged['hh_median_income'] > 50000)&(df_merged['hh_median_income'] <= 100000)].uncovered_percent.mean()"
   ]
  },
  {
   "cell_type": "code",
   "execution_count": null,
   "metadata": {},
   "outputs": [],
   "source": [
    "df_merged[(df_merged['hh_median_income'] > 100000)].uncovered_percent.mean()"
   ]
  },
  {
   "cell_type": "markdown",
   "metadata": {},
   "source": [
    "## Neighborhood analysis"
   ]
  },
  {
   "cell_type": "code",
   "execution_count": 54,
   "metadata": {},
   "outputs": [
    {
     "data": {
      "text/plain": [
       "0            Algiers Point\n",
       "1            Algiers Point\n",
       "2            Algiers Point\n",
       "3                McDonough\n",
       "4                McDonough\n",
       "              ...         \n",
       "480           Seventh Ward\n",
       "481    Uptown Neighborhood\n",
       "482    Uptown Neighborhood\n",
       "483       Village de l'est\n",
       "484       Village de l'est\n",
       "Name: Neighborhood, Length: 485, dtype: object"
      ]
     },
     "execution_count": 54,
     "metadata": {},
     "output_type": "execute_result"
    }
   ],
   "source": [
    "df_merged['Neighborhood']"
   ]
  },
  {
   "cell_type": "code",
   "execution_count": null,
   "metadata": {},
   "outputs": [],
   "source": []
  }
 ],
 "metadata": {
  "interpreter": {
   "hash": "ae3d18c733f020b5dbf08c8dd041fa90da5eb1ebd89d0bf2fe326770d1a001ea"
  },
  "kernelspec": {
   "display_name": "Python 3 (ipykernel)",
   "language": "python",
   "name": "python3"
  },
  "language_info": {
   "codemirror_mode": {
    "name": "ipython",
    "version": 3
   },
   "file_extension": ".py",
   "mimetype": "text/x-python",
   "name": "python",
   "nbconvert_exporter": "python",
   "pygments_lexer": "ipython3",
   "version": "3.9.13"
  }
 },
 "nbformat": 4,
 "nbformat_minor": 2
}
